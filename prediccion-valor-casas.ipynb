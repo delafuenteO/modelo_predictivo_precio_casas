{
 "cells": [
  {
   "cell_type": "markdown",
   "id": "41b94020",
   "metadata": {
    "papermill": {
     "duration": 0.01373,
     "end_time": "2023-11-30T11:09:12.926574",
     "exception": false,
     "start_time": "2023-11-30T11:09:12.912844",
     "status": "completed"
    },
    "tags": []
   },
   "source": [
    "# Bienvenidos, en este Notebook realizaremos una predicción del precio en UF del dataset Valor Casas Usadas, Chile, RM utilizando regresión lineal."
   ]
  },
  {
   "cell_type": "code",
   "execution_count": 1,
   "id": "49934d46",
   "metadata": {
    "execution": {
     "iopub.execute_input": "2023-11-30T11:09:12.955384Z",
     "iopub.status.busy": "2023-11-30T11:09:12.954666Z",
     "iopub.status.idle": "2023-11-30T11:09:16.035893Z",
     "shell.execute_reply": "2023-11-30T11:09:16.033017Z"
    },
    "papermill": {
     "duration": 3.099492,
     "end_time": "2023-11-30T11:09:16.039353",
     "exception": false,
     "start_time": "2023-11-30T11:09:12.939861",
     "status": "completed"
    },
    "tags": []
   },
   "outputs": [],
   "source": [
    "#Importamos las librerias a utilizar\n",
    "\n",
    "import pandas as pd\n",
    "import numpy as np\n",
    "import matplotlib.pyplot as plt\n",
    "import seaborn as sns\n",
    "\n",
    "from sklearn.preprocessing import FunctionTransformer\n",
    "from sklearn.model_selection import train_test_split\n",
    "from sklearn.linear_model import LinearRegression\n",
    "from sklearn.metrics import r2_score\n",
    "from sklearn.tree import DecisionTreeRegressor\n",
    "from sklearn.ensemble import RandomForestRegressor"
   ]
  },
  {
   "cell_type": "code",
   "execution_count": 2,
   "id": "103a347a",
   "metadata": {
    "execution": {
     "iopub.execute_input": "2023-11-30T11:09:16.069285Z",
     "iopub.status.busy": "2023-11-30T11:09:16.068479Z",
     "iopub.status.idle": "2023-11-30T11:09:16.168584Z",
     "shell.execute_reply": "2023-11-30T11:09:16.167102Z"
    },
    "papermill": {
     "duration": 0.118073,
     "end_time": "2023-11-30T11:09:16.170955",
     "exception": false,
     "start_time": "2023-11-30T11:09:16.052882",
     "status": "completed"
    },
    "tags": []
   },
   "outputs": [
    {
     "data": {
      "text/html": [
       "<div>\n",
       "<style scoped>\n",
       "    .dataframe tbody tr th:only-of-type {\n",
       "        vertical-align: middle;\n",
       "    }\n",
       "\n",
       "    .dataframe tbody tr th {\n",
       "        vertical-align: top;\n",
       "    }\n",
       "\n",
       "    .dataframe thead th {\n",
       "        text-align: right;\n",
       "    }\n",
       "</style>\n",
       "<table border=\"1\" class=\"dataframe\">\n",
       "  <thead>\n",
       "    <tr style=\"text-align: right;\">\n",
       "      <th></th>\n",
       "      <th>Price_CLP</th>\n",
       "      <th>Price_UF</th>\n",
       "      <th>Price_USD</th>\n",
       "      <th>Comuna</th>\n",
       "      <th>Ubicacion</th>\n",
       "      <th>Dorms</th>\n",
       "      <th>Baths</th>\n",
       "      <th>Built Area</th>\n",
       "      <th>Total Area</th>\n",
       "      <th>Parking</th>\n",
       "      <th>id</th>\n",
       "      <th>Realtor</th>\n",
       "    </tr>\n",
       "  </thead>\n",
       "  <tbody>\n",
       "    <tr>\n",
       "      <th>0</th>\n",
       "      <td>129884400</td>\n",
       "      <td>3600.0</td>\n",
       "      <td>158396.0</td>\n",
       "      <td>Lampa</td>\n",
       "      <td>AvenidaLaHacienda</td>\n",
       "      <td>3.0</td>\n",
       "      <td>2.0</td>\n",
       "      <td>68.0</td>\n",
       "      <td>221.0</td>\n",
       "      <td>1.0</td>\n",
       "      <td>7850612</td>\n",
       "      <td>Behouse</td>\n",
       "    </tr>\n",
       "    <tr>\n",
       "      <th>1</th>\n",
       "      <td>130000000</td>\n",
       "      <td>3603.0</td>\n",
       "      <td>158537.0</td>\n",
       "      <td>Buin</td>\n",
       "      <td>Villaseca</td>\n",
       "      <td>5.0</td>\n",
       "      <td>3.0</td>\n",
       "      <td>150.0</td>\n",
       "      <td>190.0</td>\n",
       "      <td>2.0</td>\n",
       "      <td>10081485</td>\n",
       "      <td>NaN</td>\n",
       "    </tr>\n",
       "    <tr>\n",
       "      <th>2</th>\n",
       "      <td>172998805</td>\n",
       "      <td>4795.0</td>\n",
       "      <td>210974.0</td>\n",
       "      <td>PuenteAlto</td>\n",
       "      <td>BarrioAustria</td>\n",
       "      <td>4.0</td>\n",
       "      <td>3.0</td>\n",
       "      <td>90.0</td>\n",
       "      <td>182.0</td>\n",
       "      <td>3.0</td>\n",
       "      <td>10257247</td>\n",
       "      <td>Bissac</td>\n",
       "    </tr>\n",
       "    <tr>\n",
       "      <th>3</th>\n",
       "      <td>135296250</td>\n",
       "      <td>3750.0</td>\n",
       "      <td>164995.0</td>\n",
       "      <td>Buin</td>\n",
       "      <td>ComercianteArmandoPérezCarrasco</td>\n",
       "      <td>3.0</td>\n",
       "      <td>2.0</td>\n",
       "      <td>85.0</td>\n",
       "      <td>175.0</td>\n",
       "      <td>1.0</td>\n",
       "      <td>20153043</td>\n",
       "      <td>Ambiento Propiedades</td>\n",
       "    </tr>\n",
       "    <tr>\n",
       "      <th>4</th>\n",
       "      <td>195000000</td>\n",
       "      <td>5405.0</td>\n",
       "      <td>237805.0</td>\n",
       "      <td>QuintaNormal</td>\n",
       "      <td>Hostos</td>\n",
       "      <td>3.0</td>\n",
       "      <td>3.0</td>\n",
       "      <td>130.0</td>\n",
       "      <td>402.0</td>\n",
       "      <td>1.0</td>\n",
       "      <td>16669338</td>\n",
       "      <td>Puntoinmobiliario.cl</td>\n",
       "    </tr>\n",
       "  </tbody>\n",
       "</table>\n",
       "</div>"
      ],
      "text/plain": [
       "   Price_CLP  Price_UF  Price_USD        Comuna  \\\n",
       "0  129884400    3600.0   158396.0         Lampa   \n",
       "1  130000000    3603.0   158537.0          Buin   \n",
       "2  172998805    4795.0   210974.0    PuenteAlto   \n",
       "3  135296250    3750.0   164995.0          Buin   \n",
       "4  195000000    5405.0   237805.0  QuintaNormal   \n",
       "\n",
       "                         Ubicacion  Dorms  Baths  Built Area  Total Area  \\\n",
       "0                AvenidaLaHacienda    3.0    2.0        68.0       221.0   \n",
       "1                        Villaseca    5.0    3.0       150.0       190.0   \n",
       "2                    BarrioAustria    4.0    3.0        90.0       182.0   \n",
       "3  ComercianteArmandoPérezCarrasco    3.0    2.0        85.0       175.0   \n",
       "4                           Hostos    3.0    3.0       130.0       402.0   \n",
       "\n",
       "   Parking        id               Realtor  \n",
       "0      1.0   7850612               Behouse  \n",
       "1      2.0  10081485                   NaN  \n",
       "2      3.0  10257247                Bissac  \n",
       "3      1.0  20153043  Ambiento Propiedades  \n",
       "4      1.0  16669338  Puntoinmobiliario.cl  "
      ]
     },
     "execution_count": 2,
     "metadata": {},
     "output_type": "execute_result"
    }
   ],
   "source": [
    "#Como primer paso, importamos el archivo csv a la variable df\n",
    "\n",
    "df = pd.read_csv('/kaggle/input/valor-casas-usadas-chile-rm-08032023/2023-07-18 Propiedades Web Scrape.csv')\n",
    "df.head()"
   ]
  },
  {
   "cell_type": "markdown",
   "id": "6fc4b517",
   "metadata": {
    "papermill": {
     "duration": 0.014552,
     "end_time": "2023-11-30T11:09:16.200505",
     "exception": false,
     "start_time": "2023-11-30T11:09:16.185953",
     "status": "completed"
    },
    "tags": []
   },
   "source": [
    "## Comenzamos un EDA"
   ]
  },
  {
   "cell_type": "code",
   "execution_count": 3,
   "id": "9836642c",
   "metadata": {
    "execution": {
     "iopub.execute_input": "2023-11-30T11:09:16.233845Z",
     "iopub.status.busy": "2023-11-30T11:09:16.231796Z",
     "iopub.status.idle": "2023-11-30T11:09:16.272235Z",
     "shell.execute_reply": "2023-11-30T11:09:16.270140Z"
    },
    "papermill": {
     "duration": 0.060034,
     "end_time": "2023-11-30T11:09:16.276039",
     "exception": false,
     "start_time": "2023-11-30T11:09:16.216005",
     "status": "completed"
    },
    "tags": []
   },
   "outputs": [
    {
     "name": "stdout",
     "output_type": "stream",
     "text": [
      "<class 'pandas.core.frame.DataFrame'>\n",
      "RangeIndex: 9291 entries, 0 to 9290\n",
      "Data columns (total 12 columns):\n",
      " #   Column      Non-Null Count  Dtype  \n",
      "---  ------      --------------  -----  \n",
      " 0   Price_CLP   9291 non-null   int64  \n",
      " 1   Price_UF    9291 non-null   float64\n",
      " 2   Price_USD   9291 non-null   float64\n",
      " 3   Comuna      9291 non-null   object \n",
      " 4   Ubicacion   9291 non-null   object \n",
      " 5   Dorms       9202 non-null   float64\n",
      " 6   Baths       9138 non-null   float64\n",
      " 7   Built Area  9013 non-null   float64\n",
      " 8   Total Area  9057 non-null   float64\n",
      " 9   Parking     6371 non-null   float64\n",
      " 10  id          9291 non-null   int64  \n",
      " 11  Realtor     8125 non-null   object \n",
      "dtypes: float64(7), int64(2), object(3)\n",
      "memory usage: 871.2+ KB\n"
     ]
    }
   ],
   "source": [
    "df.info()"
   ]
  },
  {
   "cell_type": "markdown",
   "id": "21586c49",
   "metadata": {
    "papermill": {
     "duration": 0.014031,
     "end_time": "2023-11-30T11:09:16.305246",
     "exception": false,
     "start_time": "2023-11-30T11:09:16.291215",
     "status": "completed"
    },
    "tags": []
   },
   "source": [
    "* Nos damos cuenta que el total de entradas es 9291, sin embargo hay variables que contienen menos datos, lo que nos indica que hay valores nulos."
   ]
  },
  {
   "cell_type": "code",
   "execution_count": 4,
   "id": "a3235771",
   "metadata": {
    "execution": {
     "iopub.execute_input": "2023-11-30T11:09:16.336639Z",
     "iopub.status.busy": "2023-11-30T11:09:16.335894Z",
     "iopub.status.idle": "2023-11-30T11:09:16.350050Z",
     "shell.execute_reply": "2023-11-30T11:09:16.347614Z"
    },
    "papermill": {
     "duration": 0.034457,
     "end_time": "2023-11-30T11:09:16.353503",
     "exception": false,
     "start_time": "2023-11-30T11:09:16.319046",
     "status": "completed"
    },
    "tags": []
   },
   "outputs": [
    {
     "data": {
      "text/plain": [
       "Price_CLP        0\n",
       "Price_UF         0\n",
       "Price_USD        0\n",
       "Comuna           0\n",
       "Ubicacion        0\n",
       "Dorms           89\n",
       "Baths          153\n",
       "Built Area     278\n",
       "Total Area     234\n",
       "Parking       2920\n",
       "id               0\n",
       "Realtor       1166\n",
       "dtype: int64"
      ]
     },
     "execution_count": 4,
     "metadata": {},
     "output_type": "execute_result"
    }
   ],
   "source": [
    "df.isna().sum()"
   ]
  },
  {
   "cell_type": "code",
   "execution_count": 5,
   "id": "92c74a56",
   "metadata": {
    "execution": {
     "iopub.execute_input": "2023-11-30T11:09:16.385034Z",
     "iopub.status.busy": "2023-11-30T11:09:16.384519Z",
     "iopub.status.idle": "2023-11-30T11:09:16.403362Z",
     "shell.execute_reply": "2023-11-30T11:09:16.401833Z"
    },
    "papermill": {
     "duration": 0.037881,
     "end_time": "2023-11-30T11:09:16.405650",
     "exception": false,
     "start_time": "2023-11-30T11:09:16.367769",
     "status": "completed"
    },
    "tags": []
   },
   "outputs": [
    {
     "data": {
      "text/plain": [
       "Price_CLP     0\n",
       "Price_UF      0\n",
       "Price_USD     0\n",
       "Comuna        0\n",
       "Ubicacion     0\n",
       "Dorms         0\n",
       "Baths         0\n",
       "Built Area    0\n",
       "Total Area    0\n",
       "Parking       0\n",
       "id            0\n",
       "Realtor       0\n",
       "dtype: int64"
      ]
     },
     "execution_count": 5,
     "metadata": {},
     "output_type": "execute_result"
    }
   ],
   "source": [
    "# Eliminamos filas con valores nulos ya que no tenemos como recuperar estos.\n",
    "df.dropna(axis=0, inplace=True)\n",
    "df.isna().sum()"
   ]
  },
  {
   "cell_type": "code",
   "execution_count": 6,
   "id": "c5e77f6f",
   "metadata": {
    "execution": {
     "iopub.execute_input": "2023-11-30T11:09:16.435748Z",
     "iopub.status.busy": "2023-11-30T11:09:16.435224Z",
     "iopub.status.idle": "2023-11-30T11:09:16.451870Z",
     "shell.execute_reply": "2023-11-30T11:09:16.450626Z"
    },
    "papermill": {
     "duration": 0.035288,
     "end_time": "2023-11-30T11:09:16.454880",
     "exception": false,
     "start_time": "2023-11-30T11:09:16.419592",
     "status": "completed"
    },
    "tags": []
   },
   "outputs": [],
   "source": [
    "#Como medida de seguridad, eliminalos las filas duplicadas.\n",
    "\n",
    "df = df.drop_duplicates()"
   ]
  },
  {
   "cell_type": "code",
   "execution_count": 7,
   "id": "ac634b05",
   "metadata": {
    "execution": {
     "iopub.execute_input": "2023-11-30T11:09:16.486053Z",
     "iopub.status.busy": "2023-11-30T11:09:16.484867Z",
     "iopub.status.idle": "2023-11-30T11:09:16.493791Z",
     "shell.execute_reply": "2023-11-30T11:09:16.492228Z"
    },
    "papermill": {
     "duration": 0.027661,
     "end_time": "2023-11-30T11:09:16.496771",
     "exception": false,
     "start_time": "2023-11-30T11:09:16.469110",
     "status": "completed"
    },
    "tags": []
   },
   "outputs": [],
   "source": [
    "# Al observar el df, sabemos que columnas no nos sirven, procedemos a dropearlas.\n",
    "\n",
    "df.drop(['Price_CLP', 'Price_USD','Ubicacion','id', 'Realtor'], axis=1, inplace=True)"
   ]
  },
  {
   "cell_type": "code",
   "execution_count": 8,
   "id": "ea92d35d",
   "metadata": {
    "execution": {
     "iopub.execute_input": "2023-11-30T11:09:16.526440Z",
     "iopub.status.busy": "2023-11-30T11:09:16.525844Z",
     "iopub.status.idle": "2023-11-30T11:09:16.541850Z",
     "shell.execute_reply": "2023-11-30T11:09:16.539910Z"
    },
    "papermill": {
     "duration": 0.034324,
     "end_time": "2023-11-30T11:09:16.545170",
     "exception": false,
     "start_time": "2023-11-30T11:09:16.510846",
     "status": "completed"
    },
    "tags": []
   },
   "outputs": [
    {
     "data": {
      "text/html": [
       "<div>\n",
       "<style scoped>\n",
       "    .dataframe tbody tr th:only-of-type {\n",
       "        vertical-align: middle;\n",
       "    }\n",
       "\n",
       "    .dataframe tbody tr th {\n",
       "        vertical-align: top;\n",
       "    }\n",
       "\n",
       "    .dataframe thead th {\n",
       "        text-align: right;\n",
       "    }\n",
       "</style>\n",
       "<table border=\"1\" class=\"dataframe\">\n",
       "  <thead>\n",
       "    <tr style=\"text-align: right;\">\n",
       "      <th></th>\n",
       "      <th>Price_UF</th>\n",
       "      <th>Comuna</th>\n",
       "      <th>Dorms</th>\n",
       "      <th>Baths</th>\n",
       "      <th>Built Area</th>\n",
       "      <th>Total Area</th>\n",
       "      <th>Parking</th>\n",
       "    </tr>\n",
       "  </thead>\n",
       "  <tbody>\n",
       "    <tr>\n",
       "      <th>0</th>\n",
       "      <td>3600.0</td>\n",
       "      <td>Lampa</td>\n",
       "      <td>3.0</td>\n",
       "      <td>2.0</td>\n",
       "      <td>68.0</td>\n",
       "      <td>221.0</td>\n",
       "      <td>1.0</td>\n",
       "    </tr>\n",
       "    <tr>\n",
       "      <th>1</th>\n",
       "      <td>4795.0</td>\n",
       "      <td>PuenteAlto</td>\n",
       "      <td>4.0</td>\n",
       "      <td>3.0</td>\n",
       "      <td>90.0</td>\n",
       "      <td>182.0</td>\n",
       "      <td>3.0</td>\n",
       "    </tr>\n",
       "    <tr>\n",
       "      <th>2</th>\n",
       "      <td>3750.0</td>\n",
       "      <td>Buin</td>\n",
       "      <td>3.0</td>\n",
       "      <td>2.0</td>\n",
       "      <td>85.0</td>\n",
       "      <td>175.0</td>\n",
       "      <td>1.0</td>\n",
       "    </tr>\n",
       "    <tr>\n",
       "      <th>3</th>\n",
       "      <td>5405.0</td>\n",
       "      <td>QuintaNormal</td>\n",
       "      <td>3.0</td>\n",
       "      <td>3.0</td>\n",
       "      <td>130.0</td>\n",
       "      <td>402.0</td>\n",
       "      <td>1.0</td>\n",
       "    </tr>\n",
       "    <tr>\n",
       "      <th>4</th>\n",
       "      <td>4000.0</td>\n",
       "      <td>Peñaflor</td>\n",
       "      <td>3.0</td>\n",
       "      <td>3.0</td>\n",
       "      <td>84.0</td>\n",
       "      <td>180.0</td>\n",
       "      <td>3.0</td>\n",
       "    </tr>\n",
       "  </tbody>\n",
       "</table>\n",
       "</div>"
      ],
      "text/plain": [
       "   Price_UF        Comuna  Dorms  Baths  Built Area  Total Area  Parking\n",
       "0    3600.0         Lampa    3.0    2.0        68.0       221.0      1.0\n",
       "1    4795.0    PuenteAlto    4.0    3.0        90.0       182.0      3.0\n",
       "2    3750.0          Buin    3.0    2.0        85.0       175.0      1.0\n",
       "3    5405.0  QuintaNormal    3.0    3.0       130.0       402.0      1.0\n",
       "4    4000.0      Peñaflor    3.0    3.0        84.0       180.0      3.0"
      ]
     },
     "execution_count": 8,
     "metadata": {},
     "output_type": "execute_result"
    }
   ],
   "source": [
    "# Reseteamos el índice\n",
    "\n",
    "df.reset_index(drop=True, inplace=True)\n",
    "df.head()"
   ]
  },
  {
   "cell_type": "code",
   "execution_count": 9,
   "id": "3b739057",
   "metadata": {
    "execution": {
     "iopub.execute_input": "2023-11-30T11:09:16.672770Z",
     "iopub.status.busy": "2023-11-30T11:09:16.672357Z",
     "iopub.status.idle": "2023-11-30T11:09:16.686149Z",
     "shell.execute_reply": "2023-11-30T11:09:16.684170Z"
    },
    "papermill": {
     "duration": 0.128742,
     "end_time": "2023-11-30T11:09:16.688773",
     "exception": false,
     "start_time": "2023-11-30T11:09:16.560031",
     "status": "completed"
    },
    "tags": []
   },
   "outputs": [
    {
     "data": {
      "text/plain": [
       "array(['Buin', 'CaleradeTango', 'Cerrillos', 'CerroNavia', 'Colina',\n",
       "       'Conchalí', 'Curacaví', 'ElBosque', 'ElMonte', 'EstaciónCentral',\n",
       "       'Huechuraba', 'Independencia', 'IsladeMaipo', 'LaCisterna',\n",
       "       'LaFlorida', 'LaGranja', 'LaPintana', 'LaReina', 'Lampa',\n",
       "       'LasCondes', 'LoBarnechea', 'LoEspejo', 'LoPrado', 'Macul',\n",
       "       'Maipú', 'MaríaPinto', 'Melipilla', 'PadreHurtado', 'Paine',\n",
       "       'PedroAguirreCerda', 'Peñaflor', 'Peñalolén', 'Pirque',\n",
       "       'Providencia', 'Pudahuel', 'PuenteAlto', 'Quilicura',\n",
       "       'QuintaNormal', 'Recoleta', 'Renca', 'SanBernardo', 'SanJoaquín',\n",
       "       'SanJosédeMaipo', 'SanMiguel', 'SanRamón', 'Santiago', 'Talagante',\n",
       "       'Tiltil', 'Vitacura', 'Ñuñoa'], dtype=object)"
      ]
     },
     "execution_count": 9,
     "metadata": {},
     "output_type": "execute_result"
    }
   ],
   "source": [
    "# Nos aseguramos de que la misma comuna no esta repetida escrita de otra manera\n",
    "\n",
    "unique_comunas = df['Comuna'].unique()\n",
    "unique_comunas.sort()\n",
    "unique_comunas"
   ]
  },
  {
   "cell_type": "markdown",
   "id": "f1bf8b3a",
   "metadata": {
    "papermill": {
     "duration": 0.013104,
     "end_time": "2023-11-30T11:09:16.716068",
     "exception": false,
     "start_time": "2023-11-30T11:09:16.702964",
     "status": "completed"
    },
    "tags": []
   },
   "source": [
    "## Correlación"
   ]
  },
  {
   "cell_type": "code",
   "execution_count": 10,
   "id": "87d28ba6",
   "metadata": {
    "execution": {
     "iopub.execute_input": "2023-11-30T11:09:16.746264Z",
     "iopub.status.busy": "2023-11-30T11:09:16.745686Z",
     "iopub.status.idle": "2023-11-30T11:09:16.759812Z",
     "shell.execute_reply": "2023-11-30T11:09:16.758309Z"
    },
    "papermill": {
     "duration": 0.033186,
     "end_time": "2023-11-30T11:09:16.762932",
     "exception": false,
     "start_time": "2023-11-30T11:09:16.729746",
     "status": "completed"
    },
    "tags": []
   },
   "outputs": [
    {
     "name": "stdout",
     "output_type": "stream",
     "text": [
      "<class 'pandas.core.frame.DataFrame'>\n",
      "RangeIndex: 5509 entries, 0 to 5508\n",
      "Data columns (total 7 columns):\n",
      " #   Column      Non-Null Count  Dtype  \n",
      "---  ------      --------------  -----  \n",
      " 0   Price_UF    5509 non-null   float64\n",
      " 1   Comuna      5509 non-null   object \n",
      " 2   Dorms       5509 non-null   float64\n",
      " 3   Baths       5509 non-null   float64\n",
      " 4   Built Area  5509 non-null   float64\n",
      " 5   Total Area  5509 non-null   float64\n",
      " 6   Parking     5509 non-null   float64\n",
      "dtypes: float64(6), object(1)\n",
      "memory usage: 301.4+ KB\n"
     ]
    }
   ],
   "source": [
    "df.info()"
   ]
  },
  {
   "cell_type": "code",
   "execution_count": 11,
   "id": "20881c32",
   "metadata": {
    "execution": {
     "iopub.execute_input": "2023-11-30T11:09:16.793963Z",
     "iopub.status.busy": "2023-11-30T11:09:16.793530Z",
     "iopub.status.idle": "2023-11-30T11:09:16.813103Z",
     "shell.execute_reply": "2023-11-30T11:09:16.811927Z"
    },
    "papermill": {
     "duration": 0.038612,
     "end_time": "2023-11-30T11:09:16.815830",
     "exception": false,
     "start_time": "2023-11-30T11:09:16.777218",
     "status": "completed"
    },
    "tags": []
   },
   "outputs": [
    {
     "data": {
      "text/html": [
       "<div>\n",
       "<style scoped>\n",
       "    .dataframe tbody tr th:only-of-type {\n",
       "        vertical-align: middle;\n",
       "    }\n",
       "\n",
       "    .dataframe tbody tr th {\n",
       "        vertical-align: top;\n",
       "    }\n",
       "\n",
       "    .dataframe thead th {\n",
       "        text-align: right;\n",
       "    }\n",
       "</style>\n",
       "<table border=\"1\" class=\"dataframe\">\n",
       "  <thead>\n",
       "    <tr style=\"text-align: right;\">\n",
       "      <th></th>\n",
       "      <th>Price_UF</th>\n",
       "      <th>Dorms</th>\n",
       "      <th>Baths</th>\n",
       "      <th>Built Area</th>\n",
       "      <th>Total Area</th>\n",
       "      <th>Parking</th>\n",
       "    </tr>\n",
       "  </thead>\n",
       "  <tbody>\n",
       "    <tr>\n",
       "      <th>Price_UF</th>\n",
       "      <td>1.000000</td>\n",
       "      <td>0.444612</td>\n",
       "      <td>0.674913</td>\n",
       "      <td>-0.002415</td>\n",
       "      <td>0.064695</td>\n",
       "      <td>0.539803</td>\n",
       "    </tr>\n",
       "    <tr>\n",
       "      <th>Dorms</th>\n",
       "      <td>0.444612</td>\n",
       "      <td>1.000000</td>\n",
       "      <td>0.635809</td>\n",
       "      <td>0.020692</td>\n",
       "      <td>0.036234</td>\n",
       "      <td>0.327315</td>\n",
       "    </tr>\n",
       "    <tr>\n",
       "      <th>Baths</th>\n",
       "      <td>0.674913</td>\n",
       "      <td>0.635809</td>\n",
       "      <td>1.000000</td>\n",
       "      <td>0.003088</td>\n",
       "      <td>0.039452</td>\n",
       "      <td>0.436687</td>\n",
       "    </tr>\n",
       "    <tr>\n",
       "      <th>Built Area</th>\n",
       "      <td>-0.002415</td>\n",
       "      <td>0.020692</td>\n",
       "      <td>0.003088</td>\n",
       "      <td>1.000000</td>\n",
       "      <td>0.023991</td>\n",
       "      <td>0.015258</td>\n",
       "    </tr>\n",
       "    <tr>\n",
       "      <th>Total Area</th>\n",
       "      <td>0.064695</td>\n",
       "      <td>0.036234</td>\n",
       "      <td>0.039452</td>\n",
       "      <td>0.023991</td>\n",
       "      <td>1.000000</td>\n",
       "      <td>0.068989</td>\n",
       "    </tr>\n",
       "    <tr>\n",
       "      <th>Parking</th>\n",
       "      <td>0.539803</td>\n",
       "      <td>0.327315</td>\n",
       "      <td>0.436687</td>\n",
       "      <td>0.015258</td>\n",
       "      <td>0.068989</td>\n",
       "      <td>1.000000</td>\n",
       "    </tr>\n",
       "  </tbody>\n",
       "</table>\n",
       "</div>"
      ],
      "text/plain": [
       "            Price_UF     Dorms     Baths  Built Area  Total Area   Parking\n",
       "Price_UF    1.000000  0.444612  0.674913   -0.002415    0.064695  0.539803\n",
       "Dorms       0.444612  1.000000  0.635809    0.020692    0.036234  0.327315\n",
       "Baths       0.674913  0.635809  1.000000    0.003088    0.039452  0.436687\n",
       "Built Area -0.002415  0.020692  0.003088    1.000000    0.023991  0.015258\n",
       "Total Area  0.064695  0.036234  0.039452    0.023991    1.000000  0.068989\n",
       "Parking     0.539803  0.327315  0.436687    0.015258    0.068989  1.000000"
      ]
     },
     "execution_count": 11,
     "metadata": {},
     "output_type": "execute_result"
    }
   ],
   "source": [
    "correlacion = df.drop(columns=['Comuna']).corr()\n",
    "correlacion"
   ]
  },
  {
   "cell_type": "code",
   "execution_count": 12,
   "id": "c5bf5f95",
   "metadata": {
    "execution": {
     "iopub.execute_input": "2023-11-30T11:09:16.848903Z",
     "iopub.status.busy": "2023-11-30T11:09:16.848456Z",
     "iopub.status.idle": "2023-11-30T11:09:17.289612Z",
     "shell.execute_reply": "2023-11-30T11:09:17.288019Z"
    },
    "papermill": {
     "duration": 0.46195,
     "end_time": "2023-11-30T11:09:17.292737",
     "exception": false,
     "start_time": "2023-11-30T11:09:16.830787",
     "status": "completed"
    },
    "tags": []
   },
   "outputs": [
    {
     "data": {
      "image/png": "[encoded data removed]",
      "text/plain": [
       "<Figure size 1100x600 with 2 Axes>"
      ]
     },
     "metadata": {},
     "output_type": "display_data"
    }
   ],
   "source": [
    "colores = sns.light_palette('salmon', as_cmap=True)\n",
    "mask = np.triu(correlacion)\n",
    "\n",
    "with sns.axes_style(\"white\"):\n",
    "    plt.figure(figsize=(11, 6))\n",
    "    sns.heatmap(correlacion, cmap=colores, mask=mask, square=True, annot=True, fmt='.2f')\n"
   ]
  },
  {
   "cell_type": "code",
   "execution_count": 13,
   "id": "da1194a3",
   "metadata": {
    "execution": {
     "iopub.execute_input": "2023-11-30T11:09:17.325904Z",
     "iopub.status.busy": "2023-11-30T11:09:17.325442Z",
     "iopub.status.idle": "2023-11-30T11:09:17.911773Z",
     "shell.execute_reply": "2023-11-30T11:09:17.909851Z"
    },
    "papermill": {
     "duration": 0.606696,
     "end_time": "2023-11-30T11:09:17.914842",
     "exception": false,
     "start_time": "2023-11-30T11:09:17.308146",
     "status": "completed"
    },
    "tags": []
   },
   "outputs": [
    {
     "data": {
      "image/png": "[encoded data removed]",
      "text/plain": [
       "<Figure size 2000x1000 with 1 Axes>"
      ]
     },
     "metadata": {},
     "output_type": "display_data"
    }
   ],
   "source": [
    "ax = sns.histplot(data=df, x='Price_UF', kde=True)\n",
    "ax.figure.set_size_inches(20, 10)\n",
    "ax.set_title('Histograma de precios')\n",
    "ax.set_xlabel('Price_UF');"
   ]
  },
  {
   "cell_type": "markdown",
   "id": "7e968332",
   "metadata": {
    "papermill": {
     "duration": 0.016543,
     "end_time": "2023-11-30T11:09:17.948850",
     "exception": false,
     "start_time": "2023-11-30T11:09:17.932307",
     "status": "completed"
    },
    "tags": []
   },
   "source": [
    "* Observamos una distribucion asimetrica a la derecha, para trabajar con regresion lineal necesitamos una distribución simetrica."
   ]
  },
  {
   "cell_type": "markdown",
   "id": "d61dfdde",
   "metadata": {
    "papermill": {
     "duration": 0.015116,
     "end_time": "2023-11-30T11:09:17.981927",
     "exception": false,
     "start_time": "2023-11-30T11:09:17.966811",
     "status": "completed"
    },
    "tags": []
   },
   "source": [
    "## Transformación de las variables"
   ]
  },
  {
   "cell_type": "markdown",
   "id": "24977138",
   "metadata": {
    "papermill": {
     "duration": 0.016853,
     "end_time": "2023-11-30T11:09:18.015338",
     "exception": false,
     "start_time": "2023-11-30T11:09:17.998485",
     "status": "completed"
    },
    "tags": []
   },
   "source": [
    "Estamos realizando una transformación logarítmica de las variables para obtener una distribución simétrica. La transformación realizada es:\n",
    "\n",
    "\n",
    "$$log1p = log(1+x)$$"
   ]
  },
  {
   "cell_type": "code",
   "execution_count": 14,
   "id": "317f9574",
   "metadata": {
    "execution": {
     "iopub.execute_input": "2023-11-30T11:09:18.049266Z",
     "iopub.status.busy": "2023-11-30T11:09:18.048836Z",
     "iopub.status.idle": "2023-11-30T11:09:18.063049Z",
     "shell.execute_reply": "2023-11-30T11:09:18.061424Z"
    },
    "papermill": {
     "duration": 0.034641,
     "end_time": "2023-11-30T11:09:18.065897",
     "exception": false,
     "start_time": "2023-11-30T11:09:18.031256",
     "status": "completed"
    },
    "tags": []
   },
   "outputs": [
    {
     "name": "stderr",
     "output_type": "stream",
     "text": [
      "/opt/conda/lib/python3.10/site-packages/sklearn/base.py:432: UserWarning: X has feature names, but FunctionTransformer was fitted without feature names\n",
      "  warnings.warn(\n"
     ]
    }
   ],
   "source": [
    "#Creamos el transformador a utilizar\n",
    "\n",
    "transformador = FunctionTransformer(np.log1p, validate=True) \n",
    "df_transformado = transformador.transform(df.select_dtypes(exclude=['object']))"
   ]
  },
  {
   "cell_type": "code",
   "execution_count": 15,
   "id": "b2c4541c",
   "metadata": {
    "execution": {
     "iopub.execute_input": "2023-11-30T11:09:18.100805Z",
     "iopub.status.busy": "2023-11-30T11:09:18.099342Z",
     "iopub.status.idle": "2023-11-30T11:09:18.116817Z",
     "shell.execute_reply": "2023-11-30T11:09:18.115809Z"
    },
    "papermill": {
     "duration": 0.037282,
     "end_time": "2023-11-30T11:09:18.118953",
     "exception": false,
     "start_time": "2023-11-30T11:09:18.081671",
     "status": "completed"
    },
    "tags": []
   },
   "outputs": [
    {
     "data": {
      "text/html": [
       "<div>\n",
       "<style scoped>\n",
       "    .dataframe tbody tr th:only-of-type {\n",
       "        vertical-align: middle;\n",
       "    }\n",
       "\n",
       "    .dataframe tbody tr th {\n",
       "        vertical-align: top;\n",
       "    }\n",
       "\n",
       "    .dataframe thead th {\n",
       "        text-align: right;\n",
       "    }\n",
       "</style>\n",
       "<table border=\"1\" class=\"dataframe\">\n",
       "  <thead>\n",
       "    <tr style=\"text-align: right;\">\n",
       "      <th></th>\n",
       "      <th>Comuna</th>\n",
       "      <th>Price_UF</th>\n",
       "      <th>Dorms</th>\n",
       "      <th>Baths</th>\n",
       "      <th>Built Area</th>\n",
       "      <th>Total Area</th>\n",
       "      <th>Parking</th>\n",
       "    </tr>\n",
       "  </thead>\n",
       "  <tbody>\n",
       "    <tr>\n",
       "      <th>0</th>\n",
       "      <td>Lampa</td>\n",
       "      <td>8.188967</td>\n",
       "      <td>1.386294</td>\n",
       "      <td>1.098612</td>\n",
       "      <td>4.234107</td>\n",
       "      <td>5.402677</td>\n",
       "      <td>0.693147</td>\n",
       "    </tr>\n",
       "    <tr>\n",
       "      <th>1</th>\n",
       "      <td>PuenteAlto</td>\n",
       "      <td>8.475538</td>\n",
       "      <td>1.609438</td>\n",
       "      <td>1.386294</td>\n",
       "      <td>4.510860</td>\n",
       "      <td>5.209486</td>\n",
       "      <td>1.386294</td>\n",
       "    </tr>\n",
       "    <tr>\n",
       "      <th>2</th>\n",
       "      <td>Buin</td>\n",
       "      <td>8.229778</td>\n",
       "      <td>1.386294</td>\n",
       "      <td>1.098612</td>\n",
       "      <td>4.454347</td>\n",
       "      <td>5.170484</td>\n",
       "      <td>0.693147</td>\n",
       "    </tr>\n",
       "    <tr>\n",
       "      <th>3</th>\n",
       "      <td>QuintaNormal</td>\n",
       "      <td>8.595265</td>\n",
       "      <td>1.386294</td>\n",
       "      <td>1.386294</td>\n",
       "      <td>4.875197</td>\n",
       "      <td>5.998937</td>\n",
       "      <td>0.693147</td>\n",
       "    </tr>\n",
       "    <tr>\n",
       "      <th>4</th>\n",
       "      <td>Peñaflor</td>\n",
       "      <td>8.294300</td>\n",
       "      <td>1.386294</td>\n",
       "      <td>1.386294</td>\n",
       "      <td>4.442651</td>\n",
       "      <td>5.198497</td>\n",
       "      <td>1.386294</td>\n",
       "    </tr>\n",
       "  </tbody>\n",
       "</table>\n",
       "</div>"
      ],
      "text/plain": [
       "         Comuna  Price_UF     Dorms     Baths  Built Area  Total Area  \\\n",
       "0         Lampa  8.188967  1.386294  1.098612    4.234107    5.402677   \n",
       "1    PuenteAlto  8.475538  1.609438  1.386294    4.510860    5.209486   \n",
       "2          Buin  8.229778  1.386294  1.098612    4.454347    5.170484   \n",
       "3  QuintaNormal  8.595265  1.386294  1.386294    4.875197    5.998937   \n",
       "4      Peñaflor  8.294300  1.386294  1.386294    4.442651    5.198497   \n",
       "\n",
       "    Parking  \n",
       "0  0.693147  \n",
       "1  1.386294  \n",
       "2  0.693147  \n",
       "3  0.693147  \n",
       "4  1.386294  "
      ]
     },
     "execution_count": 15,
     "metadata": {},
     "output_type": "execute_result"
    }
   ],
   "source": [
    "# Ahora tenemos un df con los valores transfromados pero sin variables tipo 'Object',\n",
    "# por lo cual tenemos que concatenar un nuevo df para incluirlas.\n",
    "\n",
    "columnas_df_transformados = df.select_dtypes(exclude=['object']).columns\n",
    "\n",
    "df_transformado = pd.concat([df.select_dtypes(include=['object']), pd.DataFrame(df_transformado, columns=columnas_df_transformados)], axis=1)\n",
    "df_transformado.head()"
   ]
  },
  {
   "cell_type": "code",
   "execution_count": 16,
   "id": "db060b27",
   "metadata": {
    "execution": {
     "iopub.execute_input": "2023-11-30T11:09:18.154833Z",
     "iopub.status.busy": "2023-11-30T11:09:18.154304Z",
     "iopub.status.idle": "2023-11-30T11:09:18.582418Z",
     "shell.execute_reply": "2023-11-30T11:09:18.580788Z"
    },
    "papermill": {
     "duration": 0.448647,
     "end_time": "2023-11-30T11:09:18.584922",
     "exception": false,
     "start_time": "2023-11-30T11:09:18.136275",
     "status": "completed"
    },
    "tags": []
   },
   "outputs": [
    {
     "data": {
      "image/png": "[encoded data removed]",
      "text/plain": [
       "<Figure size 800x400 with 2 Axes>"
      ]
     },
     "metadata": {},
     "output_type": "display_data"
    }
   ],
   "source": [
    "# Observamos los grficos despues de la transformación\n",
    "correlacion_transformada = df_transformado.drop(columns=['Comuna']).corr()\n",
    "mask = np.triu(correlacion_transformada)\n",
    "\n",
    "with sns.axes_style(\"white\"):\n",
    "    plt.figure(figsize=(8, 4))\n",
    "    ax = sns.heatmap(correlacion_transformada, cmap=colores, mask=mask, square=True, annot=True, fmt='.2f')\n",
    "    ax.set_title('Correlación entre variables - Tranformación Log', fontsize=20)"
   ]
  },
  {
   "cell_type": "code",
   "execution_count": 17,
   "id": "4df3ed48",
   "metadata": {
    "execution": {
     "iopub.execute_input": "2023-11-30T11:09:18.621204Z",
     "iopub.status.busy": "2023-11-30T11:09:18.620760Z",
     "iopub.status.idle": "2023-11-30T11:09:19.083254Z",
     "shell.execute_reply": "2023-11-30T11:09:19.081748Z"
    },
    "papermill": {
     "duration": 0.484473,
     "end_time": "2023-11-30T11:09:19.086240",
     "exception": false,
     "start_time": "2023-11-30T11:09:18.601767",
     "status": "completed"
    },
    "tags": []
   },
   "outputs": [
    {
     "data": {
      "image/png": "[encoded data removed]",
      "text/plain": [
       "<Figure size 2000x1000 with 1 Axes>"
      ]
     },
     "metadata": {},
     "output_type": "display_data"
    }
   ],
   "source": [
    "# Después (distribución simétrica)\n",
    "ax = sns.histplot(data=df_transformado, x='Price_UF', kde=True)\n",
    "ax.figure.set_size_inches(20, 10)\n",
    "ax.set_title('Histograma de precios')\n",
    "ax.set_xlabel('Price_UF');"
   ]
  },
  {
   "cell_type": "markdown",
   "id": "542f35b0",
   "metadata": {
    "papermill": {
     "duration": 0.018865,
     "end_time": "2023-11-30T11:09:19.126755",
     "exception": false,
     "start_time": "2023-11-30T11:09:19.107890",
     "status": "completed"
    },
    "tags": []
   },
   "source": [
    "## Dummies"
   ]
  },
  {
   "cell_type": "markdown",
   "id": "06c1fb80",
   "metadata": {
    "papermill": {
     "duration": 0.020095,
     "end_time": "2023-11-30T11:09:19.170841",
     "exception": false,
     "start_time": "2023-11-30T11:09:19.150746",
     "status": "completed"
    },
    "tags": []
   },
   "source": [
    "#### Como sabemos, el modelo de regresión lineal trabaja mejor con datos numericos, por lo cual tendremos que encargarnos de las variables categoricas transformandolas a numericas."
   ]
  },
  {
   "cell_type": "code",
   "execution_count": 18,
   "id": "29757e56",
   "metadata": {
    "execution": {
     "iopub.execute_input": "2023-11-30T11:09:19.221144Z",
     "iopub.status.busy": "2023-11-30T11:09:19.217481Z",
     "iopub.status.idle": "2023-11-30T11:09:19.228647Z",
     "shell.execute_reply": "2023-11-30T11:09:19.227771Z"
    },
    "papermill": {
     "duration": 0.035847,
     "end_time": "2023-11-30T11:09:19.230387",
     "exception": false,
     "start_time": "2023-11-30T11:09:19.194540",
     "status": "completed"
    },
    "tags": []
   },
   "outputs": [
    {
     "data": {
      "text/plain": [
       "Index(['Comuna'], dtype='object')"
      ]
     },
     "execution_count": 18,
     "metadata": {},
     "output_type": "execute_result"
    }
   ],
   "source": [
    "variables_categoricas = df_transformado.select_dtypes(include=['object']).columns\n",
    "variables_categoricas"
   ]
  },
  {
   "cell_type": "code",
   "execution_count": 19,
   "id": "06828547",
   "metadata": {
    "execution": {
     "iopub.execute_input": "2023-11-30T11:09:19.268092Z",
     "iopub.status.busy": "2023-11-30T11:09:19.266845Z",
     "iopub.status.idle": "2023-11-30T11:09:19.297070Z",
     "shell.execute_reply": "2023-11-30T11:09:19.294302Z"
    },
    "papermill": {
     "duration": 0.05301,
     "end_time": "2023-11-30T11:09:19.300457",
     "exception": false,
     "start_time": "2023-11-30T11:09:19.247447",
     "status": "completed"
    },
    "tags": []
   },
   "outputs": [
    {
     "data": {
      "text/html": [
       "<div>\n",
       "<style scoped>\n",
       "    .dataframe tbody tr th:only-of-type {\n",
       "        vertical-align: middle;\n",
       "    }\n",
       "\n",
       "    .dataframe tbody tr th {\n",
       "        vertical-align: top;\n",
       "    }\n",
       "\n",
       "    .dataframe thead th {\n",
       "        text-align: right;\n",
       "    }\n",
       "</style>\n",
       "<table border=\"1\" class=\"dataframe\">\n",
       "  <thead>\n",
       "    <tr style=\"text-align: right;\">\n",
       "      <th></th>\n",
       "      <th>Comuna_Buin</th>\n",
       "      <th>Comuna_CaleradeTango</th>\n",
       "      <th>Comuna_Cerrillos</th>\n",
       "      <th>Comuna_CerroNavia</th>\n",
       "      <th>Comuna_Colina</th>\n",
       "      <th>Comuna_Conchalí</th>\n",
       "      <th>Comuna_Curacaví</th>\n",
       "      <th>Comuna_ElBosque</th>\n",
       "      <th>Comuna_ElMonte</th>\n",
       "      <th>Comuna_EstaciónCentral</th>\n",
       "      <th>...</th>\n",
       "      <th>Comuna_SanBernardo</th>\n",
       "      <th>Comuna_SanJoaquín</th>\n",
       "      <th>Comuna_SanJosédeMaipo</th>\n",
       "      <th>Comuna_SanMiguel</th>\n",
       "      <th>Comuna_SanRamón</th>\n",
       "      <th>Comuna_Santiago</th>\n",
       "      <th>Comuna_Talagante</th>\n",
       "      <th>Comuna_Tiltil</th>\n",
       "      <th>Comuna_Vitacura</th>\n",
       "      <th>Comuna_Ñuñoa</th>\n",
       "    </tr>\n",
       "  </thead>\n",
       "  <tbody>\n",
       "    <tr>\n",
       "      <th>0</th>\n",
       "      <td>False</td>\n",
       "      <td>False</td>\n",
       "      <td>False</td>\n",
       "      <td>False</td>\n",
       "      <td>False</td>\n",
       "      <td>False</td>\n",
       "      <td>False</td>\n",
       "      <td>False</td>\n",
       "      <td>False</td>\n",
       "      <td>False</td>\n",
       "      <td>...</td>\n",
       "      <td>False</td>\n",
       "      <td>False</td>\n",
       "      <td>False</td>\n",
       "      <td>False</td>\n",
       "      <td>False</td>\n",
       "      <td>False</td>\n",
       "      <td>False</td>\n",
       "      <td>False</td>\n",
       "      <td>False</td>\n",
       "      <td>False</td>\n",
       "    </tr>\n",
       "    <tr>\n",
       "      <th>1</th>\n",
       "      <td>False</td>\n",
       "      <td>False</td>\n",
       "      <td>False</td>\n",
       "      <td>False</td>\n",
       "      <td>False</td>\n",
       "      <td>False</td>\n",
       "      <td>False</td>\n",
       "      <td>False</td>\n",
       "      <td>False</td>\n",
       "      <td>False</td>\n",
       "      <td>...</td>\n",
       "      <td>False</td>\n",
       "      <td>False</td>\n",
       "      <td>False</td>\n",
       "      <td>False</td>\n",
       "      <td>False</td>\n",
       "      <td>False</td>\n",
       "      <td>False</td>\n",
       "      <td>False</td>\n",
       "      <td>False</td>\n",
       "      <td>False</td>\n",
       "    </tr>\n",
       "    <tr>\n",
       "      <th>2</th>\n",
       "      <td>True</td>\n",
       "      <td>False</td>\n",
       "      <td>False</td>\n",
       "      <td>False</td>\n",
       "      <td>False</td>\n",
       "      <td>False</td>\n",
       "      <td>False</td>\n",
       "      <td>False</td>\n",
       "      <td>False</td>\n",
       "      <td>False</td>\n",
       "      <td>...</td>\n",
       "      <td>False</td>\n",
       "      <td>False</td>\n",
       "      <td>False</td>\n",
       "      <td>False</td>\n",
       "      <td>False</td>\n",
       "      <td>False</td>\n",
       "      <td>False</td>\n",
       "      <td>False</td>\n",
       "      <td>False</td>\n",
       "      <td>False</td>\n",
       "    </tr>\n",
       "    <tr>\n",
       "      <th>3</th>\n",
       "      <td>False</td>\n",
       "      <td>False</td>\n",
       "      <td>False</td>\n",
       "      <td>False</td>\n",
       "      <td>False</td>\n",
       "      <td>False</td>\n",
       "      <td>False</td>\n",
       "      <td>False</td>\n",
       "      <td>False</td>\n",
       "      <td>False</td>\n",
       "      <td>...</td>\n",
       "      <td>False</td>\n",
       "      <td>False</td>\n",
       "      <td>False</td>\n",
       "      <td>False</td>\n",
       "      <td>False</td>\n",
       "      <td>False</td>\n",
       "      <td>False</td>\n",
       "      <td>False</td>\n",
       "      <td>False</td>\n",
       "      <td>False</td>\n",
       "    </tr>\n",
       "    <tr>\n",
       "      <th>4</th>\n",
       "      <td>False</td>\n",
       "      <td>False</td>\n",
       "      <td>False</td>\n",
       "      <td>False</td>\n",
       "      <td>False</td>\n",
       "      <td>False</td>\n",
       "      <td>False</td>\n",
       "      <td>False</td>\n",
       "      <td>False</td>\n",
       "      <td>False</td>\n",
       "      <td>...</td>\n",
       "      <td>False</td>\n",
       "      <td>False</td>\n",
       "      <td>False</td>\n",
       "      <td>False</td>\n",
       "      <td>False</td>\n",
       "      <td>False</td>\n",
       "      <td>False</td>\n",
       "      <td>False</td>\n",
       "      <td>False</td>\n",
       "      <td>False</td>\n",
       "    </tr>\n",
       "  </tbody>\n",
       "</table>\n",
       "<p>5 rows × 50 columns</p>\n",
       "</div>"
      ],
      "text/plain": [
       "   Comuna_Buin  Comuna_CaleradeTango  Comuna_Cerrillos  Comuna_CerroNavia  \\\n",
       "0        False                 False             False              False   \n",
       "1        False                 False             False              False   \n",
       "2         True                 False             False              False   \n",
       "3        False                 False             False              False   \n",
       "4        False                 False             False              False   \n",
       "\n",
       "   Comuna_Colina  Comuna_Conchalí  Comuna_Curacaví  Comuna_ElBosque  \\\n",
       "0          False            False            False            False   \n",
       "1          False            False            False            False   \n",
       "2          False            False            False            False   \n",
       "3          False            False            False            False   \n",
       "4          False            False            False            False   \n",
       "\n",
       "   Comuna_ElMonte  Comuna_EstaciónCentral  ...  Comuna_SanBernardo  \\\n",
       "0           False                   False  ...               False   \n",
       "1           False                   False  ...               False   \n",
       "2           False                   False  ...               False   \n",
       "3           False                   False  ...               False   \n",
       "4           False                   False  ...               False   \n",
       "\n",
       "   Comuna_SanJoaquín  Comuna_SanJosédeMaipo  Comuna_SanMiguel  \\\n",
       "0              False                  False             False   \n",
       "1              False                  False             False   \n",
       "2              False                  False             False   \n",
       "3              False                  False             False   \n",
       "4              False                  False             False   \n",
       "\n",
       "   Comuna_SanRamón  Comuna_Santiago  Comuna_Talagante  Comuna_Tiltil  \\\n",
       "0            False            False             False          False   \n",
       "1            False            False             False          False   \n",
       "2            False            False             False          False   \n",
       "3            False            False             False          False   \n",
       "4            False            False             False          False   \n",
       "\n",
       "   Comuna_Vitacura  Comuna_Ñuñoa  \n",
       "0            False         False  \n",
       "1            False         False  \n",
       "2            False         False  \n",
       "3            False         False  \n",
       "4            False         False  \n",
       "\n",
       "[5 rows x 50 columns]"
      ]
     },
     "execution_count": 19,
     "metadata": {},
     "output_type": "execute_result"
    }
   ],
   "source": [
    "df_dummies = pd.get_dummies(df_transformado[variables_categoricas])\n",
    "df_dummies.head()"
   ]
  },
  {
   "cell_type": "code",
   "execution_count": 20,
   "id": "34ad9d8d",
   "metadata": {
    "execution": {
     "iopub.execute_input": "2023-11-30T11:09:19.339843Z",
     "iopub.status.busy": "2023-11-30T11:09:19.339333Z",
     "iopub.status.idle": "2023-11-30T11:09:19.363396Z",
     "shell.execute_reply": "2023-11-30T11:09:19.362453Z"
    },
    "papermill": {
     "duration": 0.046496,
     "end_time": "2023-11-30T11:09:19.366035",
     "exception": false,
     "start_time": "2023-11-30T11:09:19.319539",
     "status": "completed"
    },
    "tags": []
   },
   "outputs": [
    {
     "data": {
      "text/html": [
       "<div>\n",
       "<style scoped>\n",
       "    .dataframe tbody tr th:only-of-type {\n",
       "        vertical-align: middle;\n",
       "    }\n",
       "\n",
       "    .dataframe tbody tr th {\n",
       "        vertical-align: top;\n",
       "    }\n",
       "\n",
       "    .dataframe thead th {\n",
       "        text-align: right;\n",
       "    }\n",
       "</style>\n",
       "<table border=\"1\" class=\"dataframe\">\n",
       "  <thead>\n",
       "    <tr style=\"text-align: right;\">\n",
       "      <th></th>\n",
       "      <th>Price_UF</th>\n",
       "      <th>Dorms</th>\n",
       "      <th>Baths</th>\n",
       "      <th>Built Area</th>\n",
       "      <th>Total Area</th>\n",
       "      <th>Parking</th>\n",
       "      <th>Comuna_Buin</th>\n",
       "      <th>Comuna_CaleradeTango</th>\n",
       "      <th>Comuna_Cerrillos</th>\n",
       "      <th>Comuna_CerroNavia</th>\n",
       "      <th>...</th>\n",
       "      <th>Comuna_SanBernardo</th>\n",
       "      <th>Comuna_SanJoaquín</th>\n",
       "      <th>Comuna_SanJosédeMaipo</th>\n",
       "      <th>Comuna_SanMiguel</th>\n",
       "      <th>Comuna_SanRamón</th>\n",
       "      <th>Comuna_Santiago</th>\n",
       "      <th>Comuna_Talagante</th>\n",
       "      <th>Comuna_Tiltil</th>\n",
       "      <th>Comuna_Vitacura</th>\n",
       "      <th>Comuna_Ñuñoa</th>\n",
       "    </tr>\n",
       "  </thead>\n",
       "  <tbody>\n",
       "    <tr>\n",
       "      <th>0</th>\n",
       "      <td>8.188967</td>\n",
       "      <td>1.386294</td>\n",
       "      <td>1.098612</td>\n",
       "      <td>4.234107</td>\n",
       "      <td>5.402677</td>\n",
       "      <td>0.693147</td>\n",
       "      <td>False</td>\n",
       "      <td>False</td>\n",
       "      <td>False</td>\n",
       "      <td>False</td>\n",
       "      <td>...</td>\n",
       "      <td>False</td>\n",
       "      <td>False</td>\n",
       "      <td>False</td>\n",
       "      <td>False</td>\n",
       "      <td>False</td>\n",
       "      <td>False</td>\n",
       "      <td>False</td>\n",
       "      <td>False</td>\n",
       "      <td>False</td>\n",
       "      <td>False</td>\n",
       "    </tr>\n",
       "    <tr>\n",
       "      <th>1</th>\n",
       "      <td>8.475538</td>\n",
       "      <td>1.609438</td>\n",
       "      <td>1.386294</td>\n",
       "      <td>4.510860</td>\n",
       "      <td>5.209486</td>\n",
       "      <td>1.386294</td>\n",
       "      <td>False</td>\n",
       "      <td>False</td>\n",
       "      <td>False</td>\n",
       "      <td>False</td>\n",
       "      <td>...</td>\n",
       "      <td>False</td>\n",
       "      <td>False</td>\n",
       "      <td>False</td>\n",
       "      <td>False</td>\n",
       "      <td>False</td>\n",
       "      <td>False</td>\n",
       "      <td>False</td>\n",
       "      <td>False</td>\n",
       "      <td>False</td>\n",
       "      <td>False</td>\n",
       "    </tr>\n",
       "    <tr>\n",
       "      <th>2</th>\n",
       "      <td>8.229778</td>\n",
       "      <td>1.386294</td>\n",
       "      <td>1.098612</td>\n",
       "      <td>4.454347</td>\n",
       "      <td>5.170484</td>\n",
       "      <td>0.693147</td>\n",
       "      <td>True</td>\n",
       "      <td>False</td>\n",
       "      <td>False</td>\n",
       "      <td>False</td>\n",
       "      <td>...</td>\n",
       "      <td>False</td>\n",
       "      <td>False</td>\n",
       "      <td>False</td>\n",
       "      <td>False</td>\n",
       "      <td>False</td>\n",
       "      <td>False</td>\n",
       "      <td>False</td>\n",
       "      <td>False</td>\n",
       "      <td>False</td>\n",
       "      <td>False</td>\n",
       "    </tr>\n",
       "    <tr>\n",
       "      <th>3</th>\n",
       "      <td>8.595265</td>\n",
       "      <td>1.386294</td>\n",
       "      <td>1.386294</td>\n",
       "      <td>4.875197</td>\n",
       "      <td>5.998937</td>\n",
       "      <td>0.693147</td>\n",
       "      <td>False</td>\n",
       "      <td>False</td>\n",
       "      <td>False</td>\n",
       "      <td>False</td>\n",
       "      <td>...</td>\n",
       "      <td>False</td>\n",
       "      <td>False</td>\n",
       "      <td>False</td>\n",
       "      <td>False</td>\n",
       "      <td>False</td>\n",
       "      <td>False</td>\n",
       "      <td>False</td>\n",
       "      <td>False</td>\n",
       "      <td>False</td>\n",
       "      <td>False</td>\n",
       "    </tr>\n",
       "    <tr>\n",
       "      <th>4</th>\n",
       "      <td>8.294300</td>\n",
       "      <td>1.386294</td>\n",
       "      <td>1.386294</td>\n",
       "      <td>4.442651</td>\n",
       "      <td>5.198497</td>\n",
       "      <td>1.386294</td>\n",
       "      <td>False</td>\n",
       "      <td>False</td>\n",
       "      <td>False</td>\n",
       "      <td>False</td>\n",
       "      <td>...</td>\n",
       "      <td>False</td>\n",
       "      <td>False</td>\n",
       "      <td>False</td>\n",
       "      <td>False</td>\n",
       "      <td>False</td>\n",
       "      <td>False</td>\n",
       "      <td>False</td>\n",
       "      <td>False</td>\n",
       "      <td>False</td>\n",
       "      <td>False</td>\n",
       "    </tr>\n",
       "  </tbody>\n",
       "</table>\n",
       "<p>5 rows × 56 columns</p>\n",
       "</div>"
      ],
      "text/plain": [
       "   Price_UF     Dorms     Baths  Built Area  Total Area   Parking  \\\n",
       "0  8.188967  1.386294  1.098612    4.234107    5.402677  0.693147   \n",
       "1  8.475538  1.609438  1.386294    4.510860    5.209486  1.386294   \n",
       "2  8.229778  1.386294  1.098612    4.454347    5.170484  0.693147   \n",
       "3  8.595265  1.386294  1.386294    4.875197    5.998937  0.693147   \n",
       "4  8.294300  1.386294  1.386294    4.442651    5.198497  1.386294   \n",
       "\n",
       "   Comuna_Buin  Comuna_CaleradeTango  Comuna_Cerrillos  Comuna_CerroNavia  \\\n",
       "0        False                 False             False              False   \n",
       "1        False                 False             False              False   \n",
       "2         True                 False             False              False   \n",
       "3        False                 False             False              False   \n",
       "4        False                 False             False              False   \n",
       "\n",
       "   ...  Comuna_SanBernardo  Comuna_SanJoaquín  Comuna_SanJosédeMaipo  \\\n",
       "0  ...               False              False                  False   \n",
       "1  ...               False              False                  False   \n",
       "2  ...               False              False                  False   \n",
       "3  ...               False              False                  False   \n",
       "4  ...               False              False                  False   \n",
       "\n",
       "   Comuna_SanMiguel  Comuna_SanRamón  Comuna_Santiago  Comuna_Talagante  \\\n",
       "0             False            False            False             False   \n",
       "1             False            False            False             False   \n",
       "2             False            False            False             False   \n",
       "3             False            False            False             False   \n",
       "4             False            False            False             False   \n",
       "\n",
       "   Comuna_Tiltil  Comuna_Vitacura  Comuna_Ñuñoa  \n",
       "0          False            False         False  \n",
       "1          False            False         False  \n",
       "2          False            False         False  \n",
       "3          False            False         False  \n",
       "4          False            False         False  \n",
       "\n",
       "[5 rows x 56 columns]"
      ]
     },
     "execution_count": 20,
     "metadata": {},
     "output_type": "execute_result"
    }
   ],
   "source": [
    "# Ahora que tenemos las variables categoricas transformadas\n",
    "# solo queda concatenarlas en un df final.\n",
    "\n",
    "df_final = pd.concat([df_transformado.drop(variables_categoricas, axis=1), df_dummies], axis=1)\n",
    "df_final.head()"
   ]
  },
  {
   "cell_type": "markdown",
   "id": "a0e53e4c",
   "metadata": {
    "papermill": {
     "duration": 0.020268,
     "end_time": "2023-11-30T11:09:19.406406",
     "exception": false,
     "start_time": "2023-11-30T11:09:19.386138",
     "status": "completed"
    },
    "tags": []
   },
   "source": [
    "## Regresión Lineal"
   ]
  },
  {
   "cell_type": "markdown",
   "id": "500be005",
   "metadata": {
    "papermill": {
     "duration": 0.021789,
     "end_time": "2023-11-30T11:09:19.450034",
     "exception": false,
     "start_time": "2023-11-30T11:09:19.428245",
     "status": "completed"
    },
    "tags": []
   },
   "source": [
    "### División de los datos"
   ]
  },
  {
   "cell_type": "code",
   "execution_count": 21,
   "id": "cee92530",
   "metadata": {
    "execution": {
     "iopub.execute_input": "2023-11-30T11:09:19.496348Z",
     "iopub.status.busy": "2023-11-30T11:09:19.495479Z",
     "iopub.status.idle": "2023-11-30T11:09:19.502110Z",
     "shell.execute_reply": "2023-11-30T11:09:19.501382Z"
    },
    "papermill": {
     "duration": 0.032275,
     "end_time": "2023-11-30T11:09:19.504192",
     "exception": false,
     "start_time": "2023-11-30T11:09:19.471917",
     "status": "completed"
    },
    "tags": []
   },
   "outputs": [],
   "source": [
    "#Variables independientes\n",
    "x = df_final.drop('Price_UF', axis=1)\n",
    "\n",
    "#Variables dependientes\n",
    "y = df_final['Price_UF']"
   ]
  },
  {
   "cell_type": "code",
   "execution_count": 22,
   "id": "106a01a8",
   "metadata": {
    "execution": {
     "iopub.execute_input": "2023-11-30T11:09:19.547238Z",
     "iopub.status.busy": "2023-11-30T11:09:19.546722Z",
     "iopub.status.idle": "2023-11-30T11:09:19.558010Z",
     "shell.execute_reply": "2023-11-30T11:09:19.556601Z"
    },
    "papermill": {
     "duration": 0.0346,
     "end_time": "2023-11-30T11:09:19.561052",
     "exception": false,
     "start_time": "2023-11-30T11:09:19.526452",
     "status": "completed"
    },
    "tags": []
   },
   "outputs": [],
   "source": [
    "#división en conjunto de entrenamiento y prueba\n",
    "x_train, x_test, y_train, y_test = train_test_split(x, y, test_size=0.3, random_state=42)"
   ]
  },
  {
   "cell_type": "code",
   "execution_count": 23,
   "id": "c133bb1e",
   "metadata": {
    "execution": {
     "iopub.execute_input": "2023-11-30T11:09:19.603272Z",
     "iopub.status.busy": "2023-11-30T11:09:19.601002Z",
     "iopub.status.idle": "2023-11-30T11:09:19.608908Z",
     "shell.execute_reply": "2023-11-30T11:09:19.607775Z"
    },
    "papermill": {
     "duration": 0.031707,
     "end_time": "2023-11-30T11:09:19.611817",
     "exception": false,
     "start_time": "2023-11-30T11:09:19.580110",
     "status": "completed"
    },
    "tags": []
   },
   "outputs": [],
   "source": [
    "#Iniciamos el modelo\n",
    "lr = LinearRegression()"
   ]
  },
  {
   "cell_type": "code",
   "execution_count": 24,
   "id": "e140554c",
   "metadata": {
    "execution": {
     "iopub.execute_input": "2023-11-30T11:09:19.651841Z",
     "iopub.status.busy": "2023-11-30T11:09:19.651386Z",
     "iopub.status.idle": "2023-11-30T11:09:19.701584Z",
     "shell.execute_reply": "2023-11-30T11:09:19.700779Z"
    },
    "papermill": {
     "duration": 0.072875,
     "end_time": "2023-11-30T11:09:19.703575",
     "exception": false,
     "start_time": "2023-11-30T11:09:19.630700",
     "status": "completed"
    },
    "tags": []
   },
   "outputs": [
    {
     "data": {
      "text/html": [
       "<style>#sk-container-id-1 {color: black;background-color: white;}#sk-container-id-1 pre{padding: 0;}#sk-container-id-1 div.sk-toggleable {background-color: white;}#sk-container-id-1 label.sk-toggleable__label {cursor: pointer;display: block;width: 100%;margin-bottom: 0;padding: 0.3em;box-sizing: border-box;text-align: center;}#sk-container-id-1 label.sk-toggleable__label-arrow:before {content: \"▸\";float: left;margin-right: 0.25em;color: #696969;}#sk-container-id-1 label.sk-toggleable__label-arrow:hover:before {color: black;}#sk-container-id-1 div.sk-estimator:hover label.sk-toggleable__label-arrow:before {color: black;}#sk-container-id-1 div.sk-toggleable__content {max-height: 0;max-width: 0;overflow: hidden;text-align: left;background-color: #f0f8ff;}#sk-container-id-1 div.sk-toggleable__content pre {margin: 0.2em;color: black;border-radius: 0.25em;background-color: #f0f8ff;}#sk-container-id-1 input.sk-toggleable__control:checked~div.sk-toggleable__content {max-height: 200px;max-width: 100%;overflow: auto;}#sk-container-id-1 input.sk-toggleable__control:checked~label.sk-toggleable__label-arrow:before {content: \"▾\";}#sk-container-id-1 div.sk-estimator input.sk-toggleable__control:checked~label.sk-toggleable__label {background-color: #d4ebff;}#sk-container-id-1 div.sk-label input.sk-toggleable__control:checked~label.sk-toggleable__label {background-color: #d4ebff;}#sk-container-id-1 input.sk-hidden--visually {border: 0;clip: rect(1px 1px 1px 1px);clip: rect(1px, 1px, 1px, 1px);height: 1px;margin: -1px;overflow: hidden;padding: 0;position: absolute;width: 1px;}#sk-container-id-1 div.sk-estimator {font-family: monospace;background-color: #f0f8ff;border: 1px dotted black;border-radius: 0.25em;box-sizing: border-box;margin-bottom: 0.5em;}#sk-container-id-1 div.sk-estimator:hover {background-color: #d4ebff;}#sk-container-id-1 div.sk-parallel-item::after {content: \"\";width: 100%;border-bottom: 1px solid gray;flex-grow: 1;}#sk-container-id-1 div.sk-label:hover label.sk-toggleable__label {background-color: #d4ebff;}#sk-container-id-1 div.sk-serial::before {content: \"\";position: absolute;border-left: 1px solid gray;box-sizing: border-box;top: 0;bottom: 0;left: 50%;z-index: 0;}#sk-container-id-1 div.sk-serial {display: flex;flex-direction: column;align-items: center;background-color: white;padding-right: 0.2em;padding-left: 0.2em;position: relative;}#sk-container-id-1 div.sk-item {position: relative;z-index: 1;}#sk-container-id-1 div.sk-parallel {display: flex;align-items: stretch;justify-content: center;background-color: white;position: relative;}#sk-container-id-1 div.sk-item::before, #sk-container-id-1 div.sk-parallel-item::before {content: \"\";position: absolute;border-left: 1px solid gray;box-sizing: border-box;top: 0;bottom: 0;left: 50%;z-index: -1;}#sk-container-id-1 div.sk-parallel-item {display: flex;flex-direction: column;z-index: 1;position: relative;background-color: white;}#sk-container-id-1 div.sk-parallel-item:first-child::after {align-self: flex-end;width: 50%;}#sk-container-id-1 div.sk-parallel-item:last-child::after {align-self: flex-start;width: 50%;}#sk-container-id-1 div.sk-parallel-item:only-child::after {width: 0;}#sk-container-id-1 div.sk-dashed-wrapped {border: 1px dashed gray;margin: 0 0.4em 0.5em 0.4em;box-sizing: border-box;padding-bottom: 0.4em;background-color: white;}#sk-container-id-1 div.sk-label label {font-family: monospace;font-weight: bold;display: inline-block;line-height: 1.2em;}#sk-container-id-1 div.sk-label-container {text-align: center;}#sk-container-id-1 div.sk-container {/* jupyter's `normalize.less` sets `[hidden] { display: none; }` but bootstrap.min.css set `[hidden] { display: none !important; }` so we also need the `!important` here to be able to override the default hidden behavior on the sphinx rendered scikit-learn.org. See: https://github.com/scikit-learn/scikit-learn/issues/21755 */display: inline-block !important;position: relative;}#sk-container-id-1 div.sk-text-repr-fallback {display: none;}</style><div id=\"sk-container-id-1\" class=\"sk-top-container\"><div class=\"sk-text-repr-fallback\"><pre>LinearRegression()</pre><b>In a Jupyter environment, please rerun this cell to show the HTML representation or trust the notebook. <br />On GitHub, the HTML representation is unable to render, please try loading this page with nbviewer.org.</b></div><div class=\"sk-container\" hidden><div class=\"sk-item\"><div class=\"sk-estimator sk-toggleable\"><input class=\"sk-toggleable__control sk-hidden--visually\" id=\"sk-estimator-id-1\" type=\"checkbox\" checked><label for=\"sk-estimator-id-1\" class=\"sk-toggleable__label sk-toggleable__label-arrow\">LinearRegression</label><div class=\"sk-toggleable__content\"><pre>LinearRegression()</pre></div></div></div></div></div>"
      ],
      "text/plain": [
       "LinearRegression()"
      ]
     },
     "execution_count": 24,
     "metadata": {},
     "output_type": "execute_result"
    }
   ],
   "source": [
    "#Entrenamos el modelo\n",
    "lr.fit(x_train, y_train)"
   ]
  },
  {
   "cell_type": "code",
   "execution_count": 25,
   "id": "3403f5fe",
   "metadata": {
    "execution": {
     "iopub.execute_input": "2023-11-30T11:09:19.751539Z",
     "iopub.status.busy": "2023-11-30T11:09:19.751086Z",
     "iopub.status.idle": "2023-11-30T11:09:19.762769Z",
     "shell.execute_reply": "2023-11-30T11:09:19.761892Z"
    },
    "papermill": {
     "duration": 0.038533,
     "end_time": "2023-11-30T11:09:19.764919",
     "exception": false,
     "start_time": "2023-11-30T11:09:19.726386",
     "status": "completed"
    },
    "tags": []
   },
   "outputs": [],
   "source": [
    "#Prueba\n",
    "prediccion_lr = lr.predict(x_test)"
   ]
  },
  {
   "cell_type": "code",
   "execution_count": 26,
   "id": "df921895",
   "metadata": {
    "execution": {
     "iopub.execute_input": "2023-11-30T11:09:19.865233Z",
     "iopub.status.busy": "2023-11-30T11:09:19.864699Z",
     "iopub.status.idle": "2023-11-30T11:09:19.871561Z",
     "shell.execute_reply": "2023-11-30T11:09:19.870820Z"
    },
    "papermill": {
     "duration": 0.067355,
     "end_time": "2023-11-30T11:09:19.876105",
     "exception": false,
     "start_time": "2023-11-30T11:09:19.808750",
     "status": "completed"
    },
    "tags": []
   },
   "outputs": [
    {
     "data": {
      "text/plain": [
       "array([10.61828613,  8.91146851,  8.77075195, ...,  9.81628418,\n",
       "        8.82516479,  9.28707886])"
      ]
     },
     "execution_count": 26,
     "metadata": {},
     "output_type": "execute_result"
    }
   ],
   "source": [
    "# Resultados de la predicción\n",
    "prediccion_lr"
   ]
  },
  {
   "cell_type": "code",
   "execution_count": 27,
   "id": "4737af4a",
   "metadata": {
    "execution": {
     "iopub.execute_input": "2023-11-30T11:09:19.921335Z",
     "iopub.status.busy": "2023-11-30T11:09:19.920752Z",
     "iopub.status.idle": "2023-11-30T11:09:19.930414Z",
     "shell.execute_reply": "2023-11-30T11:09:19.928221Z"
    },
    "papermill": {
     "duration": 0.035343,
     "end_time": "2023-11-30T11:09:19.933605",
     "exception": false,
     "start_time": "2023-11-30T11:09:19.898262",
     "status": "completed"
    },
    "tags": []
   },
   "outputs": [
    {
     "data": {
      "text/plain": [
       "40956.91233374387"
      ]
     },
     "execution_count": 27,
     "metadata": {},
     "output_type": "execute_result"
    }
   ],
   "source": [
    "# Realizamos la transformación inversa para obtener el valor original\n",
    "np.expm1(10.62030029)"
   ]
  },
  {
   "cell_type": "markdown",
   "id": "3a050f03",
   "metadata": {
    "papermill": {
     "duration": 0.018384,
     "end_time": "2023-11-30T11:09:19.971537",
     "exception": false,
     "start_time": "2023-11-30T11:09:19.953153",
     "status": "completed"
    },
    "tags": []
   },
   "source": [
    "## Metrica de desempeño"
   ]
  },
  {
   "cell_type": "markdown",
   "id": "9404e964",
   "metadata": {
    "papermill": {
     "duration": 0.018365,
     "end_time": "2023-11-30T11:09:20.008790",
     "exception": false,
     "start_time": "2023-11-30T11:09:19.990425",
     "status": "completed"
    },
    "tags": []
   },
   "source": [
    "* Averiguaremos qué tan “bien” se ajusta una línea de regresión muestral a los datos con el coeficiente de determinacion r2.\n",
    "* Este encuentra entre 0 y 1, mientras mas cercano a 1 mejor. Desde 0,7 hacia arriba se considera aceptable."
   ]
  },
  {
   "cell_type": "code",
   "execution_count": 28,
   "id": "2fac697d",
   "metadata": {
    "execution": {
     "iopub.execute_input": "2023-11-30T11:09:20.049842Z",
     "iopub.status.busy": "2023-11-30T11:09:20.048908Z",
     "iopub.status.idle": "2023-11-30T11:09:20.058048Z",
     "shell.execute_reply": "2023-11-30T11:09:20.056265Z"
    },
    "papermill": {
     "duration": 0.03412,
     "end_time": "2023-11-30T11:09:20.061922",
     "exception": false,
     "start_time": "2023-11-30T11:09:20.027802",
     "status": "completed"
    },
    "tags": []
   },
   "outputs": [
    {
     "data": {
      "text/plain": [
       "0.8903601634407496"
      ]
     },
     "execution_count": 28,
     "metadata": {},
     "output_type": "execute_result"
    }
   ],
   "source": [
    "r2_lr = r2_score(y_test, prediccion_lr)\n",
    "r2_lr"
   ]
  },
  {
   "cell_type": "markdown",
   "id": "8c057d41",
   "metadata": {
    "papermill": {
     "duration": 0.018286,
     "end_time": "2023-11-30T11:09:20.098786",
     "exception": false,
     "start_time": "2023-11-30T11:09:20.080500",
     "status": "completed"
    },
    "tags": []
   },
   "source": [
    "## Arbol de Decisión para Regresión"
   ]
  },
  {
   "cell_type": "code",
   "execution_count": 29,
   "id": "facf8cf3",
   "metadata": {
    "execution": {
     "iopub.execute_input": "2023-11-30T11:09:20.138676Z",
     "iopub.status.busy": "2023-11-30T11:09:20.138239Z",
     "iopub.status.idle": "2023-11-30T11:09:20.144843Z",
     "shell.execute_reply": "2023-11-30T11:09:20.142845Z"
    },
    "papermill": {
     "duration": 0.030999,
     "end_time": "2023-11-30T11:09:20.148402",
     "exception": false,
     "start_time": "2023-11-30T11:09:20.117403",
     "status": "completed"
    },
    "tags": []
   },
   "outputs": [],
   "source": [
    "#Inicializando el modelo\n",
    "dtr = DecisionTreeRegressor(random_state=42, max_depth=5)"
   ]
  },
  {
   "cell_type": "code",
   "execution_count": 30,
   "id": "15c788af",
   "metadata": {
    "execution": {
     "iopub.execute_input": "2023-11-30T11:09:20.194007Z",
     "iopub.status.busy": "2023-11-30T11:09:20.193477Z",
     "iopub.status.idle": "2023-11-30T11:09:20.218858Z",
     "shell.execute_reply": "2023-11-30T11:09:20.216719Z"
    },
    "papermill": {
     "duration": 0.054546,
     "end_time": "2023-11-30T11:09:20.222281",
     "exception": false,
     "start_time": "2023-11-30T11:09:20.167735",
     "status": "completed"
    },
    "tags": []
   },
   "outputs": [
    {
     "data": {
      "text/html": [
       "<style>#sk-container-id-2 {color: black;background-color: white;}#sk-container-id-2 pre{padding: 0;}#sk-container-id-2 div.sk-toggleable {background-color: white;}#sk-container-id-2 label.sk-toggleable__label {cursor: pointer;display: block;width: 100%;margin-bottom: 0;padding: 0.3em;box-sizing: border-box;text-align: center;}#sk-container-id-2 label.sk-toggleable__label-arrow:before {content: \"▸\";float: left;margin-right: 0.25em;color: #696969;}#sk-container-id-2 label.sk-toggleable__label-arrow:hover:before {color: black;}#sk-container-id-2 div.sk-estimator:hover label.sk-toggleable__label-arrow:before {color: black;}#sk-container-id-2 div.sk-toggleable__content {max-height: 0;max-width: 0;overflow: hidden;text-align: left;background-color: #f0f8ff;}#sk-container-id-2 div.sk-toggleable__content pre {margin: 0.2em;color: black;border-radius: 0.25em;background-color: #f0f8ff;}#sk-container-id-2 input.sk-toggleable__control:checked~div.sk-toggleable__content {max-height: 200px;max-width: 100%;overflow: auto;}#sk-container-id-2 input.sk-toggleable__control:checked~label.sk-toggleable__label-arrow:before {content: \"▾\";}#sk-container-id-2 div.sk-estimator input.sk-toggleable__control:checked~label.sk-toggleable__label {background-color: #d4ebff;}#sk-container-id-2 div.sk-label input.sk-toggleable__control:checked~label.sk-toggleable__label {background-color: #d4ebff;}#sk-container-id-2 input.sk-hidden--visually {border: 0;clip: rect(1px 1px 1px 1px);clip: rect(1px, 1px, 1px, 1px);height: 1px;margin: -1px;overflow: hidden;padding: 0;position: absolute;width: 1px;}#sk-container-id-2 div.sk-estimator {font-family: monospace;background-color: #f0f8ff;border: 1px dotted black;border-radius: 0.25em;box-sizing: border-box;margin-bottom: 0.5em;}#sk-container-id-2 div.sk-estimator:hover {background-color: #d4ebff;}#sk-container-id-2 div.sk-parallel-item::after {content: \"\";width: 100%;border-bottom: 1px solid gray;flex-grow: 1;}#sk-container-id-2 div.sk-label:hover label.sk-toggleable__label {background-color: #d4ebff;}#sk-container-id-2 div.sk-serial::before {content: \"\";position: absolute;border-left: 1px solid gray;box-sizing: border-box;top: 0;bottom: 0;left: 50%;z-index: 0;}#sk-container-id-2 div.sk-serial {display: flex;flex-direction: column;align-items: center;background-color: white;padding-right: 0.2em;padding-left: 0.2em;position: relative;}#sk-container-id-2 div.sk-item {position: relative;z-index: 1;}#sk-container-id-2 div.sk-parallel {display: flex;align-items: stretch;justify-content: center;background-color: white;position: relative;}#sk-container-id-2 div.sk-item::before, #sk-container-id-2 div.sk-parallel-item::before {content: \"\";position: absolute;border-left: 1px solid gray;box-sizing: border-box;top: 0;bottom: 0;left: 50%;z-index: -1;}#sk-container-id-2 div.sk-parallel-item {display: flex;flex-direction: column;z-index: 1;position: relative;background-color: white;}#sk-container-id-2 div.sk-parallel-item:first-child::after {align-self: flex-end;width: 50%;}#sk-container-id-2 div.sk-parallel-item:last-child::after {align-self: flex-start;width: 50%;}#sk-container-id-2 div.sk-parallel-item:only-child::after {width: 0;}#sk-container-id-2 div.sk-dashed-wrapped {border: 1px dashed gray;margin: 0 0.4em 0.5em 0.4em;box-sizing: border-box;padding-bottom: 0.4em;background-color: white;}#sk-container-id-2 div.sk-label label {font-family: monospace;font-weight: bold;display: inline-block;line-height: 1.2em;}#sk-container-id-2 div.sk-label-container {text-align: center;}#sk-container-id-2 div.sk-container {/* jupyter's `normalize.less` sets `[hidden] { display: none; }` but bootstrap.min.css set `[hidden] { display: none !important; }` so we also need the `!important` here to be able to override the default hidden behavior on the sphinx rendered scikit-learn.org. See: https://github.com/scikit-learn/scikit-learn/issues/21755 */display: inline-block !important;position: relative;}#sk-container-id-2 div.sk-text-repr-fallback {display: none;}</style><div id=\"sk-container-id-2\" class=\"sk-top-container\"><div class=\"sk-text-repr-fallback\"><pre>DecisionTreeRegressor(max_depth=5, random_state=42)</pre><b>In a Jupyter environment, please rerun this cell to show the HTML representation or trust the notebook. <br />On GitHub, the HTML representation is unable to render, please try loading this page with nbviewer.org.</b></div><div class=\"sk-container\" hidden><div class=\"sk-item\"><div class=\"sk-estimator sk-toggleable\"><input class=\"sk-toggleable__control sk-hidden--visually\" id=\"sk-estimator-id-2\" type=\"checkbox\" checked><label for=\"sk-estimator-id-2\" class=\"sk-toggleable__label sk-toggleable__label-arrow\">DecisionTreeRegressor</label><div class=\"sk-toggleable__content\"><pre>DecisionTreeRegressor(max_depth=5, random_state=42)</pre></div></div></div></div></div>"
      ],
      "text/plain": [
       "DecisionTreeRegressor(max_depth=5, random_state=42)"
      ]
     },
     "execution_count": 30,
     "metadata": {},
     "output_type": "execute_result"
    }
   ],
   "source": [
    "#Entrenamiento\n",
    "dtr.fit(x_train, y_train)"
   ]
  },
  {
   "cell_type": "code",
   "execution_count": 31,
   "id": "c8dd8f9c",
   "metadata": {
    "execution": {
     "iopub.execute_input": "2023-11-30T11:09:20.263632Z",
     "iopub.status.busy": "2023-11-30T11:09:20.263100Z",
     "iopub.status.idle": "2023-11-30T11:09:20.273257Z",
     "shell.execute_reply": "2023-11-30T11:09:20.272106Z"
    },
    "papermill": {
     "duration": 0.033654,
     "end_time": "2023-11-30T11:09:20.275548",
     "exception": false,
     "start_time": "2023-11-30T11:09:20.241894",
     "status": "completed"
    },
    "tags": []
   },
   "outputs": [],
   "source": [
    "#Prueba\n",
    "prediccion_dtr = dtr.predict(x_test)"
   ]
  },
  {
   "cell_type": "code",
   "execution_count": 32,
   "id": "ab9338d2",
   "metadata": {
    "execution": {
     "iopub.execute_input": "2023-11-30T11:09:20.315536Z",
     "iopub.status.busy": "2023-11-30T11:09:20.315073Z",
     "iopub.status.idle": "2023-11-30T11:09:20.327336Z",
     "shell.execute_reply": "2023-11-30T11:09:20.325241Z"
    },
    "papermill": {
     "duration": 0.036418,
     "end_time": "2023-11-30T11:09:20.331226",
     "exception": false,
     "start_time": "2023-11-30T11:09:20.294808",
     "status": "completed"
    },
    "tags": []
   },
   "outputs": [
    {
     "data": {
      "text/plain": [
       "array([10.13498357,  8.78998384,  9.40031547, ...,  9.79420558,\n",
       "        8.78998384,  9.40031547])"
      ]
     },
     "execution_count": 32,
     "metadata": {},
     "output_type": "execute_result"
    }
   ],
   "source": [
    "#Resultados de la predicción\n",
    "prediccion_dtr"
   ]
  },
  {
   "cell_type": "markdown",
   "id": "e0e99779",
   "metadata": {
    "papermill": {
     "duration": 0.019609,
     "end_time": "2023-11-30T11:09:20.371131",
     "exception": false,
     "start_time": "2023-11-30T11:09:20.351522",
     "status": "completed"
    },
    "tags": []
   },
   "source": [
    "**Gráfico de error de predicción:** Un gráfico de error de predicción muestra los objetivos reales frente a los valores predichos. En un modelo perfecto, estos puntos estarían alineados a 45 grados."
   ]
  },
  {
   "cell_type": "code",
   "execution_count": 33,
   "id": "9acec62c",
   "metadata": {
    "execution": {
     "iopub.execute_input": "2023-11-30T11:09:20.414973Z",
     "iopub.status.busy": "2023-11-30T11:09:20.414507Z",
     "iopub.status.idle": "2023-11-30T11:09:21.309627Z",
     "shell.execute_reply": "2023-11-30T11:09:21.308039Z"
    },
    "papermill": {
     "duration": 0.921882,
     "end_time": "2023-11-30T11:09:21.312759",
     "exception": false,
     "start_time": "2023-11-30T11:09:20.390877",
     "status": "completed"
    },
    "tags": []
   },
   "outputs": [
    {
     "name": "stderr",
     "output_type": "stream",
     "text": [
      "/opt/conda/lib/python3.10/site-packages/sklearn/base.py:439: UserWarning: X does not have valid feature names, but DecisionTreeRegressor was fitted with feature names\n",
      "  warnings.warn(\n"
     ]
    },
    {
     "data": {
      "image/png": "[encoded data removed]",
      "text/plain": [
       "<Figure size 800x800 with 1 Axes>"
      ]
     },
     "metadata": {},
     "output_type": "display_data"
    },
    {
     "data": {
      "text/plain": [
       "<Axes: title={'center': 'Prediction Error for DecisionTreeRegressor'}, xlabel='$y$', ylabel='$\\\\hat{y}$'>"
      ]
     },
     "execution_count": 33,
     "metadata": {},
     "output_type": "execute_result"
    }
   ],
   "source": [
    "from yellowbrick.regressor import PredictionError\n",
    "\n",
    "fig, ax = plt.subplots(figsize=(8, 8))\n",
    "pev = PredictionError(dtr)\n",
    "pev.fit(x_train, y_train)\n",
    "pev.score(x_test, y_test)\n",
    "pev.poof()"
   ]
  },
  {
   "cell_type": "markdown",
   "id": "63fae67f",
   "metadata": {
    "papermill": {
     "duration": 0.020818,
     "end_time": "2023-11-30T11:09:21.354718",
     "exception": false,
     "start_time": "2023-11-30T11:09:21.333900",
     "status": "completed"
    },
    "tags": []
   },
   "source": [
    "## Predicción con Random Forest"
   ]
  },
  {
   "cell_type": "code",
   "execution_count": 34,
   "id": "e2e0a3d8",
   "metadata": {
    "execution": {
     "iopub.execute_input": "2023-11-30T11:09:21.404554Z",
     "iopub.status.busy": "2023-11-30T11:09:21.403952Z",
     "iopub.status.idle": "2023-11-30T11:09:21.411048Z",
     "shell.execute_reply": "2023-11-30T11:09:21.408725Z"
    },
    "papermill": {
     "duration": 0.036437,
     "end_time": "2023-11-30T11:09:21.413642",
     "exception": false,
     "start_time": "2023-11-30T11:09:21.377205",
     "status": "completed"
    },
    "tags": []
   },
   "outputs": [],
   "source": [
    "#Primero creamos la variable\n",
    "rf = RandomForestRegressor(random_state=42, max_depth=5, n_estimators=10)"
   ]
  },
  {
   "cell_type": "code",
   "execution_count": 35,
   "id": "591753a3",
   "metadata": {
    "execution": {
     "iopub.execute_input": "2023-11-30T11:09:21.463076Z",
     "iopub.status.busy": "2023-11-30T11:09:21.462295Z",
     "iopub.status.idle": "2023-11-30T11:09:21.536181Z",
     "shell.execute_reply": "2023-11-30T11:09:21.533702Z"
    },
    "papermill": {
     "duration": 0.10135,
     "end_time": "2023-11-30T11:09:21.538733",
     "exception": false,
     "start_time": "2023-11-30T11:09:21.437383",
     "status": "completed"
    },
    "tags": []
   },
   "outputs": [
    {
     "data": {
      "text/html": [
       "<style>#sk-container-id-3 {color: black;background-color: white;}#sk-container-id-3 pre{padding: 0;}#sk-container-id-3 div.sk-toggleable {background-color: white;}#sk-container-id-3 label.sk-toggleable__label {cursor: pointer;display: block;width: 100%;margin-bottom: 0;padding: 0.3em;box-sizing: border-box;text-align: center;}#sk-container-id-3 label.sk-toggleable__label-arrow:before {content: \"▸\";float: left;margin-right: 0.25em;color: #696969;}#sk-container-id-3 label.sk-toggleable__label-arrow:hover:before {color: black;}#sk-container-id-3 div.sk-estimator:hover label.sk-toggleable__label-arrow:before {color: black;}#sk-container-id-3 div.sk-toggleable__content {max-height: 0;max-width: 0;overflow: hidden;text-align: left;background-color: #f0f8ff;}#sk-container-id-3 div.sk-toggleable__content pre {margin: 0.2em;color: black;border-radius: 0.25em;background-color: #f0f8ff;}#sk-container-id-3 input.sk-toggleable__control:checked~div.sk-toggleable__content {max-height: 200px;max-width: 100%;overflow: auto;}#sk-container-id-3 input.sk-toggleable__control:checked~label.sk-toggleable__label-arrow:before {content: \"▾\";}#sk-container-id-3 div.sk-estimator input.sk-toggleable__control:checked~label.sk-toggleable__label {background-color: #d4ebff;}#sk-container-id-3 div.sk-label input.sk-toggleable__control:checked~label.sk-toggleable__label {background-color: #d4ebff;}#sk-container-id-3 input.sk-hidden--visually {border: 0;clip: rect(1px 1px 1px 1px);clip: rect(1px, 1px, 1px, 1px);height: 1px;margin: -1px;overflow: hidden;padding: 0;position: absolute;width: 1px;}#sk-container-id-3 div.sk-estimator {font-family: monospace;background-color: #f0f8ff;border: 1px dotted black;border-radius: 0.25em;box-sizing: border-box;margin-bottom: 0.5em;}#sk-container-id-3 div.sk-estimator:hover {background-color: #d4ebff;}#sk-container-id-3 div.sk-parallel-item::after {content: \"\";width: 100%;border-bottom: 1px solid gray;flex-grow: 1;}#sk-container-id-3 div.sk-label:hover label.sk-toggleable__label {background-color: #d4ebff;}#sk-container-id-3 div.sk-serial::before {content: \"\";position: absolute;border-left: 1px solid gray;box-sizing: border-box;top: 0;bottom: 0;left: 50%;z-index: 0;}#sk-container-id-3 div.sk-serial {display: flex;flex-direction: column;align-items: center;background-color: white;padding-right: 0.2em;padding-left: 0.2em;position: relative;}#sk-container-id-3 div.sk-item {position: relative;z-index: 1;}#sk-container-id-3 div.sk-parallel {display: flex;align-items: stretch;justify-content: center;background-color: white;position: relative;}#sk-container-id-3 div.sk-item::before, #sk-container-id-3 div.sk-parallel-item::before {content: \"\";position: absolute;border-left: 1px solid gray;box-sizing: border-box;top: 0;bottom: 0;left: 50%;z-index: -1;}#sk-container-id-3 div.sk-parallel-item {display: flex;flex-direction: column;z-index: 1;position: relative;background-color: white;}#sk-container-id-3 div.sk-parallel-item:first-child::after {align-self: flex-end;width: 50%;}#sk-container-id-3 div.sk-parallel-item:last-child::after {align-self: flex-start;width: 50%;}#sk-container-id-3 div.sk-parallel-item:only-child::after {width: 0;}#sk-container-id-3 div.sk-dashed-wrapped {border: 1px dashed gray;margin: 0 0.4em 0.5em 0.4em;box-sizing: border-box;padding-bottom: 0.4em;background-color: white;}#sk-container-id-3 div.sk-label label {font-family: monospace;font-weight: bold;display: inline-block;line-height: 1.2em;}#sk-container-id-3 div.sk-label-container {text-align: center;}#sk-container-id-3 div.sk-container {/* jupyter's `normalize.less` sets `[hidden] { display: none; }` but bootstrap.min.css set `[hidden] { display: none !important; }` so we also need the `!important` here to be able to override the default hidden behavior on the sphinx rendered scikit-learn.org. See: https://github.com/scikit-learn/scikit-learn/issues/21755 */display: inline-block !important;position: relative;}#sk-container-id-3 div.sk-text-repr-fallback {display: none;}</style><div id=\"sk-container-id-3\" class=\"sk-top-container\"><div class=\"sk-text-repr-fallback\"><pre>RandomForestRegressor(max_depth=5, n_estimators=10, random_state=42)</pre><b>In a Jupyter environment, please rerun this cell to show the HTML representation or trust the notebook. <br />On GitHub, the HTML representation is unable to render, please try loading this page with nbviewer.org.</b></div><div class=\"sk-container\" hidden><div class=\"sk-item\"><div class=\"sk-estimator sk-toggleable\"><input class=\"sk-toggleable__control sk-hidden--visually\" id=\"sk-estimator-id-3\" type=\"checkbox\" checked><label for=\"sk-estimator-id-3\" class=\"sk-toggleable__label sk-toggleable__label-arrow\">RandomForestRegressor</label><div class=\"sk-toggleable__content\"><pre>RandomForestRegressor(max_depth=5, n_estimators=10, random_state=42)</pre></div></div></div></div></div>"
      ],
      "text/plain": [
       "RandomForestRegressor(max_depth=5, n_estimators=10, random_state=42)"
      ]
     },
     "execution_count": 35,
     "metadata": {},
     "output_type": "execute_result"
    }
   ],
   "source": [
    "rf.fit(x_train, y_train)"
   ]
  },
  {
   "cell_type": "code",
   "execution_count": 36,
   "id": "e2b4c969",
   "metadata": {
    "execution": {
     "iopub.execute_input": "2023-11-30T11:09:21.582649Z",
     "iopub.status.busy": "2023-11-30T11:09:21.582130Z",
     "iopub.status.idle": "2023-11-30T11:09:21.594852Z",
     "shell.execute_reply": "2023-11-30T11:09:21.593384Z"
    },
    "papermill": {
     "duration": 0.039227,
     "end_time": "2023-11-30T11:09:21.598482",
     "exception": false,
     "start_time": "2023-11-30T11:09:21.559255",
     "status": "completed"
    },
    "tags": []
   },
   "outputs": [],
   "source": [
    "prediccion_rf = rf.predict(x_test)"
   ]
  },
  {
   "cell_type": "markdown",
   "id": "fe3ae842",
   "metadata": {
    "papermill": {
     "duration": 0.021675,
     "end_time": "2023-11-30T11:09:21.640544",
     "exception": false,
     "start_time": "2023-11-30T11:09:21.618869",
     "status": "completed"
    },
    "tags": []
   },
   "source": [
    "### Grafico de error de predicción"
   ]
  },
  {
   "cell_type": "code",
   "execution_count": 37,
   "id": "3ed108a3",
   "metadata": {
    "execution": {
     "iopub.execute_input": "2023-11-30T11:09:21.683929Z",
     "iopub.status.busy": "2023-11-30T11:09:21.683171Z",
     "iopub.status.idle": "2023-11-30T11:09:22.029971Z",
     "shell.execute_reply": "2023-11-30T11:09:22.028584Z"
    },
    "papermill": {
     "duration": 0.371349,
     "end_time": "2023-11-30T11:09:22.032319",
     "exception": false,
     "start_time": "2023-11-30T11:09:21.660970",
     "status": "completed"
    },
    "tags": []
   },
   "outputs": [
    {
     "name": "stderr",
     "output_type": "stream",
     "text": [
      "/opt/conda/lib/python3.10/site-packages/sklearn/base.py:439: UserWarning: X does not have valid feature names, but RandomForestRegressor was fitted with feature names\n",
      "  warnings.warn(\n"
     ]
    },
    {
     "data": {
      "image/png": "[encoded data removed]",
      "text/plain": [
       "<Figure size 800x800 with 1 Axes>"
      ]
     },
     "metadata": {},
     "output_type": "display_data"
    },
    {
     "data": {
      "text/plain": [
       "<Axes: title={'center': 'Prediction Error for RandomForestRegressor'}, xlabel='$y$', ylabel='$\\\\hat{y}$'>"
      ]
     },
     "execution_count": 37,
     "metadata": {},
     "output_type": "execute_result"
    }
   ],
   "source": [
    "fig, ax = plt.subplots(figsize=(8, 8))\n",
    "pev = PredictionError(rf)\n",
    "pev.fit(x_train, y_train)\n",
    "pev.score(x_test, y_test)\n",
    "pev.poof()"
   ]
  },
  {
   "cell_type": "markdown",
   "id": "400bc90d",
   "metadata": {
    "papermill": {
     "duration": 0.022661,
     "end_time": "2023-11-30T11:09:22.079298",
     "exception": false,
     "start_time": "2023-11-30T11:09:22.056637",
     "status": "completed"
    },
    "tags": []
   },
   "source": [
    "*Como podemos observar, nos da un R2 de 0.83*"
   ]
  },
  {
   "cell_type": "markdown",
   "id": "0f012fa5",
   "metadata": {
    "papermill": {
     "duration": 0.024474,
     "end_time": "2023-11-30T11:09:22.125828",
     "exception": false,
     "start_time": "2023-11-30T11:09:22.101354",
     "status": "completed"
    },
    "tags": []
   },
   "source": [
    "## Optimización del Arbol de Decisión"
   ]
  },
  {
   "cell_type": "markdown",
   "id": "68d1beea",
   "metadata": {
    "papermill": {
     "duration": 0.025129,
     "end_time": "2023-11-30T11:09:22.177293",
     "exception": false,
     "start_time": "2023-11-30T11:09:22.152164",
     "status": "completed"
    },
    "tags": []
   },
   "source": [
    "### Cross Validation"
   ]
  },
  {
   "cell_type": "code",
   "execution_count": 38,
   "id": "963ab275",
   "metadata": {
    "execution": {
     "iopub.execute_input": "2023-11-30T11:09:22.226443Z",
     "iopub.status.busy": "2023-11-30T11:09:22.225943Z",
     "iopub.status.idle": "2023-11-30T11:09:22.231102Z",
     "shell.execute_reply": "2023-11-30T11:09:22.229961Z"
    },
    "papermill": {
     "duration": 0.032567,
     "end_time": "2023-11-30T11:09:22.233255",
     "exception": false,
     "start_time": "2023-11-30T11:09:22.200688",
     "status": "completed"
    },
    "tags": []
   },
   "outputs": [],
   "source": [
    "from sklearn.model_selection import KFold\n",
    "\n",
    "#definimos el numero de subconjuntos\n",
    "cv = KFold(n_splits=5, shuffle=True)"
   ]
  },
  {
   "cell_type": "code",
   "execution_count": 39,
   "id": "92d8573e",
   "metadata": {
    "execution": {
     "iopub.execute_input": "2023-11-30T11:09:22.281450Z",
     "iopub.status.busy": "2023-11-30T11:09:22.281047Z",
     "iopub.status.idle": "2023-11-30T11:09:22.358026Z",
     "shell.execute_reply": "2023-11-30T11:09:22.355581Z"
    },
    "papermill": {
     "duration": 0.105786,
     "end_time": "2023-11-30T11:09:22.362798",
     "exception": false,
     "start_time": "2023-11-30T11:09:22.257012",
     "status": "completed"
    },
    "tags": []
   },
   "outputs": [
    {
     "name": "stdout",
     "output_type": "stream",
     "text": [
      "Accuracy promedio de r2: 0.8\n"
     ]
    }
   ],
   "source": [
    "from sklearn.model_selection import cross_val_score\n",
    "\n",
    "accuracy_cross_val_r2 = cross_val_score(estimator = dtr,\n",
    "                                       X = x_train,\n",
    "                                       y = y_train,\n",
    "                                       scoring = 'r2',\n",
    "                                       cv = cv)\n",
    "print('Accuracy promedio de r2: {}'.format(round(accuracy_cross_val_r2.mean(), 3)))"
   ]
  },
  {
   "cell_type": "markdown",
   "id": "e6c93d06",
   "metadata": {
    "papermill": {
     "duration": 0.023231,
     "end_time": "2023-11-30T11:09:22.410083",
     "exception": false,
     "start_time": "2023-11-30T11:09:22.386852",
     "status": "completed"
    },
    "tags": []
   },
   "source": [
    "### Random Search Validation"
   ]
  },
  {
   "cell_type": "code",
   "execution_count": 40,
   "id": "428ab7f4",
   "metadata": {
    "execution": {
     "iopub.execute_input": "2023-11-30T11:09:22.457387Z",
     "iopub.status.busy": "2023-11-30T11:09:22.456948Z",
     "iopub.status.idle": "2023-11-30T11:09:22.466099Z",
     "shell.execute_reply": "2023-11-30T11:09:22.463503Z"
    },
    "papermill": {
     "duration": 0.036612,
     "end_time": "2023-11-30T11:09:22.469821",
     "exception": false,
     "start_time": "2023-11-30T11:09:22.433209",
     "status": "completed"
    },
    "tags": []
   },
   "outputs": [],
   "source": [
    "from sklearn.model_selection import RandomizedSearchCV\n",
    "\n",
    "#Selección de hiperparametros\n",
    "param_random_dt = {'criterion': ['squared_error', 'absolute_error'],\n",
    "                  'max_depth': [6, 8, 10, 12, 14, 16],\n",
    "                   'min_samples_leaf': [6, 8, 10],\n",
    "                   'min_samples_split': [8, 10, 12, 14, 16],\n",
    "                   'max_features': [None, 'sqrt', 'log2'],\n",
    "                  }"
   ]
  },
  {
   "cell_type": "code",
   "execution_count": 41,
   "id": "0075fa53",
   "metadata": {
    "execution": {
     "iopub.execute_input": "2023-11-30T11:09:22.518539Z",
     "iopub.status.busy": "2023-11-30T11:09:22.517972Z",
     "iopub.status.idle": "2023-11-30T11:09:22.526406Z",
     "shell.execute_reply": "2023-11-30T11:09:22.523905Z"
    },
    "papermill": {
     "duration": 0.038178,
     "end_time": "2023-11-30T11:09:22.530357",
     "exception": false,
     "start_time": "2023-11-30T11:09:22.492179",
     "status": "completed"
    },
    "tags": []
   },
   "outputs": [],
   "source": [
    "random_cv_dt = RandomizedSearchCV(\n",
    "    dtr,\n",
    "    param_random_dt,\n",
    "    n_iter=5,\n",
    "    cv=cv,\n",
    "    scoring='r2',\n",
    "    n_jobs=-1\n",
    ")"
   ]
  },
  {
   "cell_type": "code",
   "execution_count": 42,
   "id": "a875b8b2",
   "metadata": {
    "execution": {
     "iopub.execute_input": "2023-11-30T11:09:22.579213Z",
     "iopub.status.busy": "2023-11-30T11:09:22.578684Z",
     "iopub.status.idle": "2023-11-30T11:09:25.580231Z",
     "shell.execute_reply": "2023-11-30T11:09:25.578926Z"
    },
    "papermill": {
     "duration": 3.030002,
     "end_time": "2023-11-30T11:09:25.583313",
     "exception": false,
     "start_time": "2023-11-30T11:09:22.553311",
     "status": "completed"
    },
    "tags": []
   },
   "outputs": [],
   "source": [
    "randomcv_dtr = random_cv_dt.fit(x_train, y_train)"
   ]
  },
  {
   "cell_type": "code",
   "execution_count": 43,
   "id": "205bb76f",
   "metadata": {
    "execution": {
     "iopub.execute_input": "2023-11-30T11:09:25.632071Z",
     "iopub.status.busy": "2023-11-30T11:09:25.630078Z",
     "iopub.status.idle": "2023-11-30T11:09:25.657682Z",
     "shell.execute_reply": "2023-11-30T11:09:25.655744Z"
    },
    "papermill": {
     "duration": 0.054939,
     "end_time": "2023-11-30T11:09:25.661150",
     "exception": false,
     "start_time": "2023-11-30T11:09:25.606211",
     "status": "completed"
    },
    "tags": []
   },
   "outputs": [
    {
     "data": {
      "text/html": [
       "<div>\n",
       "<style scoped>\n",
       "    .dataframe tbody tr th:only-of-type {\n",
       "        vertical-align: middle;\n",
       "    }\n",
       "\n",
       "    .dataframe tbody tr th {\n",
       "        vertical-align: top;\n",
       "    }\n",
       "\n",
       "    .dataframe thead th {\n",
       "        text-align: right;\n",
       "    }\n",
       "</style>\n",
       "<table border=\"1\" class=\"dataframe\">\n",
       "  <thead>\n",
       "    <tr style=\"text-align: right;\">\n",
       "      <th></th>\n",
       "      <th>mean_fit_time</th>\n",
       "      <th>std_fit_time</th>\n",
       "      <th>mean_score_time</th>\n",
       "      <th>std_score_time</th>\n",
       "      <th>param_min_samples_split</th>\n",
       "      <th>param_min_samples_leaf</th>\n",
       "      <th>param_max_features</th>\n",
       "      <th>param_max_depth</th>\n",
       "      <th>param_criterion</th>\n",
       "      <th>params</th>\n",
       "      <th>split0_test_score</th>\n",
       "      <th>split1_test_score</th>\n",
       "      <th>split2_test_score</th>\n",
       "      <th>split3_test_score</th>\n",
       "      <th>split4_test_score</th>\n",
       "      <th>mean_test_score</th>\n",
       "      <th>std_test_score</th>\n",
       "      <th>rank_test_score</th>\n",
       "    </tr>\n",
       "  </thead>\n",
       "  <tbody>\n",
       "    <tr>\n",
       "      <th>0</th>\n",
       "      <td>0.033310</td>\n",
       "      <td>0.014837</td>\n",
       "      <td>0.005878</td>\n",
       "      <td>0.004186</td>\n",
       "      <td>8</td>\n",
       "      <td>6</td>\n",
       "      <td>None</td>\n",
       "      <td>10</td>\n",
       "      <td>squared_error</td>\n",
       "      <td>{'min_samples_split': 8, 'min_samples_leaf': 6...</td>\n",
       "      <td>0.838786</td>\n",
       "      <td>0.846063</td>\n",
       "      <td>0.829500</td>\n",
       "      <td>0.840149</td>\n",
       "      <td>0.820086</td>\n",
       "      <td>0.834917</td>\n",
       "      <td>0.009120</td>\n",
       "      <td>1</td>\n",
       "    </tr>\n",
       "    <tr>\n",
       "      <th>1</th>\n",
       "      <td>0.139480</td>\n",
       "      <td>0.016114</td>\n",
       "      <td>0.004176</td>\n",
       "      <td>0.000843</td>\n",
       "      <td>8</td>\n",
       "      <td>10</td>\n",
       "      <td>log2</td>\n",
       "      <td>14</td>\n",
       "      <td>absolute_error</td>\n",
       "      <td>{'min_samples_split': 8, 'min_samples_leaf': 1...</td>\n",
       "      <td>0.611981</td>\n",
       "      <td>0.773426</td>\n",
       "      <td>0.701315</td>\n",
       "      <td>0.788497</td>\n",
       "      <td>0.755549</td>\n",
       "      <td>0.726154</td>\n",
       "      <td>0.064246</td>\n",
       "      <td>5</td>\n",
       "    </tr>\n",
       "    <tr>\n",
       "      <th>2</th>\n",
       "      <td>0.203763</td>\n",
       "      <td>0.008099</td>\n",
       "      <td>0.003799</td>\n",
       "      <td>0.000079</td>\n",
       "      <td>8</td>\n",
       "      <td>8</td>\n",
       "      <td>sqrt</td>\n",
       "      <td>12</td>\n",
       "      <td>absolute_error</td>\n",
       "      <td>{'min_samples_split': 8, 'min_samples_leaf': 8...</td>\n",
       "      <td>0.771845</td>\n",
       "      <td>0.817167</td>\n",
       "      <td>0.776805</td>\n",
       "      <td>0.798874</td>\n",
       "      <td>0.773036</td>\n",
       "      <td>0.787545</td>\n",
       "      <td>0.017766</td>\n",
       "      <td>3</td>\n",
       "    </tr>\n",
       "    <tr>\n",
       "      <th>3</th>\n",
       "      <td>0.193717</td>\n",
       "      <td>0.020812</td>\n",
       "      <td>0.003716</td>\n",
       "      <td>0.000629</td>\n",
       "      <td>14</td>\n",
       "      <td>6</td>\n",
       "      <td>sqrt</td>\n",
       "      <td>16</td>\n",
       "      <td>absolute_error</td>\n",
       "      <td>{'min_samples_split': 14, 'min_samples_leaf': ...</td>\n",
       "      <td>0.796437</td>\n",
       "      <td>0.813851</td>\n",
       "      <td>0.791972</td>\n",
       "      <td>0.821984</td>\n",
       "      <td>0.784951</td>\n",
       "      <td>0.801839</td>\n",
       "      <td>0.013870</td>\n",
       "      <td>2</td>\n",
       "    </tr>\n",
       "    <tr>\n",
       "      <th>4</th>\n",
       "      <td>0.007110</td>\n",
       "      <td>0.001934</td>\n",
       "      <td>0.003042</td>\n",
       "      <td>0.000446</td>\n",
       "      <td>12</td>\n",
       "      <td>10</td>\n",
       "      <td>log2</td>\n",
       "      <td>6</td>\n",
       "      <td>squared_error</td>\n",
       "      <td>{'min_samples_split': 12, 'min_samples_leaf': ...</td>\n",
       "      <td>0.699970</td>\n",
       "      <td>0.743543</td>\n",
       "      <td>0.747704</td>\n",
       "      <td>0.730776</td>\n",
       "      <td>0.720619</td>\n",
       "      <td>0.728523</td>\n",
       "      <td>0.017183</td>\n",
       "      <td>4</td>\n",
       "    </tr>\n",
       "  </tbody>\n",
       "</table>\n",
       "</div>"
      ],
      "text/plain": [
       "   mean_fit_time  std_fit_time  mean_score_time  std_score_time  \\\n",
       "0       0.033310      0.014837         0.005878        0.004186   \n",
       "1       0.139480      0.016114         0.004176        0.000843   \n",
       "2       0.203763      0.008099         0.003799        0.000079   \n",
       "3       0.193717      0.020812         0.003716        0.000629   \n",
       "4       0.007110      0.001934         0.003042        0.000446   \n",
       "\n",
       "  param_min_samples_split param_min_samples_leaf param_max_features  \\\n",
       "0                       8                      6               None   \n",
       "1                       8                     10               log2   \n",
       "2                       8                      8               sqrt   \n",
       "3                      14                      6               sqrt   \n",
       "4                      12                     10               log2   \n",
       "\n",
       "  param_max_depth param_criterion  \\\n",
       "0              10   squared_error   \n",
       "1              14  absolute_error   \n",
       "2              12  absolute_error   \n",
       "3              16  absolute_error   \n",
       "4               6   squared_error   \n",
       "\n",
       "                                              params  split0_test_score  \\\n",
       "0  {'min_samples_split': 8, 'min_samples_leaf': 6...           0.838786   \n",
       "1  {'min_samples_split': 8, 'min_samples_leaf': 1...           0.611981   \n",
       "2  {'min_samples_split': 8, 'min_samples_leaf': 8...           0.771845   \n",
       "3  {'min_samples_split': 14, 'min_samples_leaf': ...           0.796437   \n",
       "4  {'min_samples_split': 12, 'min_samples_leaf': ...           0.699970   \n",
       "\n",
       "   split1_test_score  split2_test_score  split3_test_score  split4_test_score  \\\n",
       "0           0.846063           0.829500           0.840149           0.820086   \n",
       "1           0.773426           0.701315           0.788497           0.755549   \n",
       "2           0.817167           0.776805           0.798874           0.773036   \n",
       "3           0.813851           0.791972           0.821984           0.784951   \n",
       "4           0.743543           0.747704           0.730776           0.720619   \n",
       "\n",
       "   mean_test_score  std_test_score  rank_test_score  \n",
       "0         0.834917        0.009120                1  \n",
       "1         0.726154        0.064246                5  \n",
       "2         0.787545        0.017766                3  \n",
       "3         0.801839        0.013870                2  \n",
       "4         0.728523        0.017183                4  "
      ]
     },
     "execution_count": 43,
     "metadata": {},
     "output_type": "execute_result"
    }
   ],
   "source": [
    "pd.DataFrame(randomcv_dtr.cv_results_)"
   ]
  },
  {
   "cell_type": "code",
   "execution_count": 44,
   "id": "318da345",
   "metadata": {
    "execution": {
     "iopub.execute_input": "2023-11-30T11:09:25.710584Z",
     "iopub.status.busy": "2023-11-30T11:09:25.709911Z",
     "iopub.status.idle": "2023-11-30T11:09:25.719700Z",
     "shell.execute_reply": "2023-11-30T11:09:25.718456Z"
    },
    "papermill": {
     "duration": 0.038365,
     "end_time": "2023-11-30T11:09:25.722146",
     "exception": false,
     "start_time": "2023-11-30T11:09:25.683781",
     "status": "completed"
    },
    "tags": []
   },
   "outputs": [
    {
     "data": {
      "text/plain": [
       "{'min_samples_split': 8,\n",
       " 'min_samples_leaf': 6,\n",
       " 'max_features': None,\n",
       " 'max_depth': 10,\n",
       " 'criterion': 'squared_error'}"
      ]
     },
     "execution_count": 44,
     "metadata": {},
     "output_type": "execute_result"
    }
   ],
   "source": [
    "#la mejor combinación\n",
    "randomcv_dtr.best_params_"
   ]
  },
  {
   "cell_type": "code",
   "execution_count": 45,
   "id": "e15d73d3",
   "metadata": {
    "execution": {
     "iopub.execute_input": "2023-11-30T11:09:25.775199Z",
     "iopub.status.busy": "2023-11-30T11:09:25.774508Z",
     "iopub.status.idle": "2023-11-30T11:09:25.781850Z",
     "shell.execute_reply": "2023-11-30T11:09:25.779867Z"
    },
    "papermill": {
     "duration": 0.037847,
     "end_time": "2023-11-30T11:09:25.784626",
     "exception": false,
     "start_time": "2023-11-30T11:09:25.746779",
     "status": "completed"
    },
    "tags": []
   },
   "outputs": [
    {
     "data": {
      "text/plain": [
       "0.8349169228038308"
      ]
     },
     "execution_count": 45,
     "metadata": {},
     "output_type": "execute_result"
    }
   ],
   "source": [
    "#el mejor score\n",
    "randomcv_dtr.best_score_"
   ]
  },
  {
   "cell_type": "markdown",
   "id": "9db176be",
   "metadata": {
    "papermill": {
     "duration": 0.026761,
     "end_time": "2023-11-30T11:09:25.834977",
     "exception": false,
     "start_time": "2023-11-30T11:09:25.808216",
     "status": "completed"
    },
    "tags": []
   },
   "source": [
    "### Random Search Test"
   ]
  },
  {
   "cell_type": "code",
   "execution_count": 46,
   "id": "93be7eb0",
   "metadata": {
    "execution": {
     "iopub.execute_input": "2023-11-30T11:09:25.886059Z",
     "iopub.status.busy": "2023-11-30T11:09:25.885379Z",
     "iopub.status.idle": "2023-11-30T11:09:25.892967Z",
     "shell.execute_reply": "2023-11-30T11:09:25.890507Z"
    },
    "papermill": {
     "duration": 0.03607,
     "end_time": "2023-11-30T11:09:25.896598",
     "exception": false,
     "start_time": "2023-11-30T11:09:25.860528",
     "status": "completed"
    },
    "tags": []
   },
   "outputs": [],
   "source": [
    "dtr_optimizado = DecisionTreeRegressor(min_samples_split = 16,\n",
    " min_samples_leaf = 8,\n",
    " max_features = None,\n",
    " max_depth = 10,\n",
    " criterion= 'squared_error')"
   ]
  },
  {
   "cell_type": "code",
   "execution_count": 47,
   "id": "f1af0e84",
   "metadata": {
    "execution": {
     "iopub.execute_input": "2023-11-30T11:09:25.948889Z",
     "iopub.status.busy": "2023-11-30T11:09:25.948341Z",
     "iopub.status.idle": "2023-11-30T11:09:25.972050Z",
     "shell.execute_reply": "2023-11-30T11:09:25.970035Z"
    },
    "papermill": {
     "duration": 0.052361,
     "end_time": "2023-11-30T11:09:25.975293",
     "exception": false,
     "start_time": "2023-11-30T11:09:25.922932",
     "status": "completed"
    },
    "tags": []
   },
   "outputs": [
    {
     "data": {
      "text/html": [
       "<style>#sk-container-id-4 {color: black;background-color: white;}#sk-container-id-4 pre{padding: 0;}#sk-container-id-4 div.sk-toggleable {background-color: white;}#sk-container-id-4 label.sk-toggleable__label {cursor: pointer;display: block;width: 100%;margin-bottom: 0;padding: 0.3em;box-sizing: border-box;text-align: center;}#sk-container-id-4 label.sk-toggleable__label-arrow:before {content: \"▸\";float: left;margin-right: 0.25em;color: #696969;}#sk-container-id-4 label.sk-toggleable__label-arrow:hover:before {color: black;}#sk-container-id-4 div.sk-estimator:hover label.sk-toggleable__label-arrow:before {color: black;}#sk-container-id-4 div.sk-toggleable__content {max-height: 0;max-width: 0;overflow: hidden;text-align: left;background-color: #f0f8ff;}#sk-container-id-4 div.sk-toggleable__content pre {margin: 0.2em;color: black;border-radius: 0.25em;background-color: #f0f8ff;}#sk-container-id-4 input.sk-toggleable__control:checked~div.sk-toggleable__content {max-height: 200px;max-width: 100%;overflow: auto;}#sk-container-id-4 input.sk-toggleable__control:checked~label.sk-toggleable__label-arrow:before {content: \"▾\";}#sk-container-id-4 div.sk-estimator input.sk-toggleable__control:checked~label.sk-toggleable__label {background-color: #d4ebff;}#sk-container-id-4 div.sk-label input.sk-toggleable__control:checked~label.sk-toggleable__label {background-color: #d4ebff;}#sk-container-id-4 input.sk-hidden--visually {border: 0;clip: rect(1px 1px 1px 1px);clip: rect(1px, 1px, 1px, 1px);height: 1px;margin: -1px;overflow: hidden;padding: 0;position: absolute;width: 1px;}#sk-container-id-4 div.sk-estimator {font-family: monospace;background-color: #f0f8ff;border: 1px dotted black;border-radius: 0.25em;box-sizing: border-box;margin-bottom: 0.5em;}#sk-container-id-4 div.sk-estimator:hover {background-color: #d4ebff;}#sk-container-id-4 div.sk-parallel-item::after {content: \"\";width: 100%;border-bottom: 1px solid gray;flex-grow: 1;}#sk-container-id-4 div.sk-label:hover label.sk-toggleable__label {background-color: #d4ebff;}#sk-container-id-4 div.sk-serial::before {content: \"\";position: absolute;border-left: 1px solid gray;box-sizing: border-box;top: 0;bottom: 0;left: 50%;z-index: 0;}#sk-container-id-4 div.sk-serial {display: flex;flex-direction: column;align-items: center;background-color: white;padding-right: 0.2em;padding-left: 0.2em;position: relative;}#sk-container-id-4 div.sk-item {position: relative;z-index: 1;}#sk-container-id-4 div.sk-parallel {display: flex;align-items: stretch;justify-content: center;background-color: white;position: relative;}#sk-container-id-4 div.sk-item::before, #sk-container-id-4 div.sk-parallel-item::before {content: \"\";position: absolute;border-left: 1px solid gray;box-sizing: border-box;top: 0;bottom: 0;left: 50%;z-index: -1;}#sk-container-id-4 div.sk-parallel-item {display: flex;flex-direction: column;z-index: 1;position: relative;background-color: white;}#sk-container-id-4 div.sk-parallel-item:first-child::after {align-self: flex-end;width: 50%;}#sk-container-id-4 div.sk-parallel-item:last-child::after {align-self: flex-start;width: 50%;}#sk-container-id-4 div.sk-parallel-item:only-child::after {width: 0;}#sk-container-id-4 div.sk-dashed-wrapped {border: 1px dashed gray;margin: 0 0.4em 0.5em 0.4em;box-sizing: border-box;padding-bottom: 0.4em;background-color: white;}#sk-container-id-4 div.sk-label label {font-family: monospace;font-weight: bold;display: inline-block;line-height: 1.2em;}#sk-container-id-4 div.sk-label-container {text-align: center;}#sk-container-id-4 div.sk-container {/* jupyter's `normalize.less` sets `[hidden] { display: none; }` but bootstrap.min.css set `[hidden] { display: none !important; }` so we also need the `!important` here to be able to override the default hidden behavior on the sphinx rendered scikit-learn.org. See: https://github.com/scikit-learn/scikit-learn/issues/21755 */display: inline-block !important;position: relative;}#sk-container-id-4 div.sk-text-repr-fallback {display: none;}</style><div id=\"sk-container-id-4\" class=\"sk-top-container\"><div class=\"sk-text-repr-fallback\"><pre>DecisionTreeRegressor(max_depth=10, min_samples_leaf=8, min_samples_split=16)</pre><b>In a Jupyter environment, please rerun this cell to show the HTML representation or trust the notebook. <br />On GitHub, the HTML representation is unable to render, please try loading this page with nbviewer.org.</b></div><div class=\"sk-container\" hidden><div class=\"sk-item\"><div class=\"sk-estimator sk-toggleable\"><input class=\"sk-toggleable__control sk-hidden--visually\" id=\"sk-estimator-id-4\" type=\"checkbox\" checked><label for=\"sk-estimator-id-4\" class=\"sk-toggleable__label sk-toggleable__label-arrow\">DecisionTreeRegressor</label><div class=\"sk-toggleable__content\"><pre>DecisionTreeRegressor(max_depth=10, min_samples_leaf=8, min_samples_split=16)</pre></div></div></div></div></div>"
      ],
      "text/plain": [
       "DecisionTreeRegressor(max_depth=10, min_samples_leaf=8, min_samples_split=16)"
      ]
     },
     "execution_count": 47,
     "metadata": {},
     "output_type": "execute_result"
    }
   ],
   "source": [
    "dtr_optimizado.fit(x_train, y_train)"
   ]
  },
  {
   "cell_type": "code",
   "execution_count": 48,
   "id": "a4501b56",
   "metadata": {
    "execution": {
     "iopub.execute_input": "2023-11-30T11:09:26.027152Z",
     "iopub.status.busy": "2023-11-30T11:09:26.026529Z",
     "iopub.status.idle": "2023-11-30T11:09:26.038944Z",
     "shell.execute_reply": "2023-11-30T11:09:26.037414Z"
    },
    "papermill": {
     "duration": 0.044269,
     "end_time": "2023-11-30T11:09:26.042109",
     "exception": false,
     "start_time": "2023-11-30T11:09:25.997840",
     "status": "completed"
    },
    "tags": []
   },
   "outputs": [],
   "source": [
    "prediccion_dtr_optimizado = dtr_optimizado.predict(x_test)"
   ]
  },
  {
   "cell_type": "code",
   "execution_count": 49,
   "id": "2b6e175e",
   "metadata": {
    "execution": {
     "iopub.execute_input": "2023-11-30T11:09:26.092824Z",
     "iopub.status.busy": "2023-11-30T11:09:26.092173Z",
     "iopub.status.idle": "2023-11-30T11:09:26.102299Z",
     "shell.execute_reply": "2023-11-30T11:09:26.100904Z"
    },
    "papermill": {
     "duration": 0.039184,
     "end_time": "2023-11-30T11:09:26.105670",
     "exception": false,
     "start_time": "2023-11-30T11:09:26.066486",
     "status": "completed"
    },
    "tags": []
   },
   "outputs": [
    {
     "data": {
      "text/plain": [
       "0.8357252109605358"
      ]
     },
     "execution_count": 49,
     "metadata": {},
     "output_type": "execute_result"
    }
   ],
   "source": [
    "r2_score(y_test, prediccion_dtr_optimizado)"
   ]
  }
 ],
 "metadata": {
  "kaggle": {
   "accelerator": "none",
   "dataSources": [
    {
     "datasetId": 2980581,
     "sourceId": 6157597,
     "sourceType": "datasetVersion"
    }
   ],
   "dockerImageVersionId": 30587,
   "isGpuEnabled": false,
   "isInternetEnabled": true,
   "language": "python",
   "sourceType": "notebook"
  },
  "kernelspec": {
   "display_name": "Python 3",
   "language": "python",
   "name": "python3"
  },
  "language_info": {
   "codemirror_mode": {
    "name": "ipython",
    "version": 3
   },
   "file_extension": ".py",
   "mimetype": "text/x-python",
   "name": "python",
   "nbconvert_exporter": "python",
   "pygments_lexer": "ipython3",
   "version": "3.10.12"
  },
  "papermill": {
   "default_parameters": {},
   "duration": 19.004556,
   "end_time": "2023-11-30T11:09:28.755009",
   "environment_variables": {},
   "exception": null,
   "input_path": "__notebook__.ipynb",
   "output_path": "__notebook__.ipynb",
   "parameters": {},
   "start_time": "2023-11-30T11:09:09.750453",
   "version": "2.4.0"
  }
 },
 "nbformat": 4,
 "nbformat_minor": 5
}
